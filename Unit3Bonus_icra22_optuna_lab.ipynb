{
  "cells": [
    {
      "cell_type": "markdown",
      "metadata": {
        "id": "view-in-github",
        "colab_type": "text"
      },
      "source": [
        "<a href=\"https://colab.research.google.com/github/Douglch/HuggyFace-Deep-Reinforcement-Learning/blob/main/Unit3Bonus_icra22_optuna_lab.ipynb\" target=\"_parent\"><img src=\"https://colab.research.google.com/assets/colab-badge.svg\" alt=\"Open In Colab\"/></a>"
      ]
    },
    {
      "cell_type": "markdown",
      "metadata": {
        "id": "hyyN-2qyK_T2"
      },
      "source": [
        "# Hyperparameter tuning with Optuna\n",
        "\n",
        "Github repo: https://github.com/araffin/tools-for-robotic-rl-icra2022\n",
        "\n",
        "Optuna: https://github.com/optuna/optuna\n",
        "\n",
        "Stable-Baselines3: https://github.com/DLR-RM/stable-baselines3\n",
        "\n",
        "Documentation: https://stable-baselines3.readthedocs.io/en/master/\n",
        "\n",
        "SB3 Contrib: https://github.com/Stable-Baselines-Team/stable-baselines3-contrib\n",
        "\n",
        "RL Baselines3 zoo: https://github.com/DLR-RM/rl-baselines3-zoo\n",
        "\n",
        "[RL Baselines3 Zoo](https://github.com/DLR-RM/rl-baselines3-zoo) is a collection of pre-trained Reinforcement Learning agents using Stable-Baselines3.\n",
        "\n",
        "It also provides basic scripts for training, evaluating agents, tuning hyperparameters and recording videos.\n",
        "\n",
        "\n",
        "## Introduction\n",
        "\n",
        "In this notebook, you will learn the importance of tuning hyperparameters. You will first try to optimize the parameters manually and then we will see how to automate the search using Optuna.\n",
        "\n",
        "\n",
        "## Install Dependencies and Stable Baselines3 Using Pip\n",
        "\n",
        "List of full dependencies can be found in the [README](https://github.com/DLR-RM/stable-baselines3).\n",
        "\n",
        "\n",
        "```\n",
        "pip install stable-baselines3[extra]\n",
        "```"
      ]
    },
    {
      "cell_type": "code",
      "execution_count": null,
      "metadata": {
        "id": "hYdv2ygjLaFL",
        "vscode": {
          "languageId": "python"
        },
        "colab": {
          "base_uri": "https://localhost:8080/",
          "height": 1000
        },
        "outputId": "a635412a-597e-4508-c96a-046d22bc4e6d"
      },
      "outputs": [
        {
          "output_type": "stream",
          "name": "stdout",
          "text": [
            "Looking in indexes: https://pypi.org/simple, https://us-python.pkg.dev/colab-wheels/public/simple/\n",
            "Requirement already satisfied: wheel==0.38.4 in /usr/local/lib/python3.10/dist-packages (0.38.4)\n",
            "Looking in indexes: https://pypi.org/simple, https://us-python.pkg.dev/colab-wheels/public/simple/\n",
            "Collecting setuptools==65.5.0\n",
            "  Downloading setuptools-65.5.0-py3-none-any.whl (1.2 MB)\n",
            "\u001b[2K     \u001b[90m━━━━━━━━━━━━━━━━━━━━━━━━━━━━━━━━━━━━━━━━\u001b[0m \u001b[32m1.2/1.2 MB\u001b[0m \u001b[31m16.0 MB/s\u001b[0m eta \u001b[36m0:00:00\u001b[0m\n",
            "\u001b[?25hInstalling collected packages: setuptools\n",
            "  Attempting uninstall: setuptools\n",
            "    Found existing installation: setuptools 67.7.2\n",
            "    Uninstalling setuptools-67.7.2:\n",
            "      Successfully uninstalled setuptools-67.7.2\n",
            "\u001b[31mERROR: pip's dependency resolver does not currently take into account all the packages that are installed. This behaviour is the source of the following dependency conflicts.\n",
            "ipython 7.34.0 requires jedi>=0.16, which is not installed.\n",
            "cvxpy 1.3.1 requires setuptools>65.5.1, but you have setuptools 65.5.0 which is incompatible.\u001b[0m\u001b[31m\n",
            "\u001b[0mSuccessfully installed setuptools-65.5.0\n"
          ]
        },
        {
          "output_type": "display_data",
          "data": {
            "application/vnd.colab-display-data+json": {
              "pip_warning": {
                "packages": [
                  "_distutils_hack",
                  "pkg_resources",
                  "setuptools"
                ]
              }
            }
          },
          "metadata": {}
        },
        {
          "output_type": "stream",
          "name": "stdout",
          "text": [
            "Looking in indexes: https://pypi.org/simple, https://us-python.pkg.dev/colab-wheels/public/simple/\n",
            "Collecting stable-baselines3\n",
            "  Using cached stable_baselines3-1.8.0-py3-none-any.whl (174 kB)\n",
            "Collecting gym==0.21 (from stable-baselines3)\n",
            "  Using cached gym-0.21.0.tar.gz (1.5 MB)\n",
            "  Preparing metadata (setup.py) ... \u001b[?25l\u001b[?25hdone\n",
            "Requirement already satisfied: numpy in /usr/local/lib/python3.10/dist-packages (from stable-baselines3) (1.22.4)\n",
            "Requirement already satisfied: torch>=1.11 in /usr/local/lib/python3.10/dist-packages (from stable-baselines3) (2.0.1+cu118)\n",
            "Requirement already satisfied: cloudpickle in /usr/local/lib/python3.10/dist-packages (from stable-baselines3) (2.2.1)\n",
            "Requirement already satisfied: pandas in /usr/local/lib/python3.10/dist-packages (from stable-baselines3) (1.5.3)\n",
            "Requirement already satisfied: matplotlib in /usr/local/lib/python3.10/dist-packages (from stable-baselines3) (3.7.1)\n",
            "Collecting importlib-metadata~=4.13 (from stable-baselines3)\n",
            "  Downloading importlib_metadata-4.13.0-py3-none-any.whl (23 kB)\n",
            "Requirement already satisfied: zipp>=0.5 in /usr/local/lib/python3.10/dist-packages (from importlib-metadata~=4.13->stable-baselines3) (3.15.0)\n",
            "Requirement already satisfied: filelock in /usr/local/lib/python3.10/dist-packages (from torch>=1.11->stable-baselines3) (3.12.0)\n",
            "Requirement already satisfied: typing-extensions in /usr/local/lib/python3.10/dist-packages (from torch>=1.11->stable-baselines3) (4.5.0)\n",
            "Requirement already satisfied: sympy in /usr/local/lib/python3.10/dist-packages (from torch>=1.11->stable-baselines3) (1.11.1)\n",
            "Requirement already satisfied: networkx in /usr/local/lib/python3.10/dist-packages (from torch>=1.11->stable-baselines3) (3.1)\n",
            "Requirement already satisfied: jinja2 in /usr/local/lib/python3.10/dist-packages (from torch>=1.11->stable-baselines3) (3.1.2)\n",
            "Requirement already satisfied: triton==2.0.0 in /usr/local/lib/python3.10/dist-packages (from torch>=1.11->stable-baselines3) (2.0.0)\n",
            "Requirement already satisfied: cmake in /usr/local/lib/python3.10/dist-packages (from triton==2.0.0->torch>=1.11->stable-baselines3) (3.25.2)\n",
            "Requirement already satisfied: lit in /usr/local/lib/python3.10/dist-packages (from triton==2.0.0->torch>=1.11->stable-baselines3) (16.0.5)\n",
            "Requirement already satisfied: contourpy>=1.0.1 in /usr/local/lib/python3.10/dist-packages (from matplotlib->stable-baselines3) (1.0.7)\n",
            "Requirement already satisfied: cycler>=0.10 in /usr/local/lib/python3.10/dist-packages (from matplotlib->stable-baselines3) (0.11.0)\n",
            "Requirement already satisfied: fonttools>=4.22.0 in /usr/local/lib/python3.10/dist-packages (from matplotlib->stable-baselines3) (4.39.3)\n",
            "Requirement already satisfied: kiwisolver>=1.0.1 in /usr/local/lib/python3.10/dist-packages (from matplotlib->stable-baselines3) (1.4.4)\n",
            "Requirement already satisfied: packaging>=20.0 in /usr/local/lib/python3.10/dist-packages (from matplotlib->stable-baselines3) (23.1)\n",
            "Requirement already satisfied: pillow>=6.2.0 in /usr/local/lib/python3.10/dist-packages (from matplotlib->stable-baselines3) (8.4.0)\n",
            "Requirement already satisfied: pyparsing>=2.3.1 in /usr/local/lib/python3.10/dist-packages (from matplotlib->stable-baselines3) (3.0.9)\n",
            "Requirement already satisfied: python-dateutil>=2.7 in /usr/local/lib/python3.10/dist-packages (from matplotlib->stable-baselines3) (2.8.2)\n",
            "Requirement already satisfied: pytz>=2020.1 in /usr/local/lib/python3.10/dist-packages (from pandas->stable-baselines3) (2022.7.1)\n",
            "Requirement already satisfied: six>=1.5 in /usr/local/lib/python3.10/dist-packages (from python-dateutil>=2.7->matplotlib->stable-baselines3) (1.16.0)\n",
            "Requirement already satisfied: MarkupSafe>=2.0 in /usr/local/lib/python3.10/dist-packages (from jinja2->torch>=1.11->stable-baselines3) (2.1.2)\n",
            "Requirement already satisfied: mpmath>=0.19 in /usr/local/lib/python3.10/dist-packages (from sympy->torch>=1.11->stable-baselines3) (1.3.0)\n",
            "Building wheels for collected packages: gym\n",
            "  Building wheel for gym (setup.py) ... \u001b[?25l\u001b[?25hdone\n",
            "  Created wheel for gym: filename=gym-0.21.0-py3-none-any.whl size=1616795 sha256=0511bc602c76d0654fa28dd3dc16ad7bb7e848850ae94c4d53d1cef1bf5789b5\n",
            "  Stored in directory: /root/.cache/pip/wheels/81/aa/90/b67df76370d3916a2189b662cf48da38ce41a4e7e58b6abff5\n",
            "Successfully built gym\n",
            "Installing collected packages: importlib-metadata, gym, stable-baselines3\n",
            "  Attempting uninstall: gym\n",
            "    Found existing installation: gym 0.25.2\n",
            "    Uninstalling gym-0.25.2:\n",
            "      Successfully uninstalled gym-0.25.2\n",
            "Successfully installed gym-0.21.0 importlib-metadata-4.13.0 stable-baselines3-1.8.0\n"
          ]
        },
        {
          "output_type": "display_data",
          "data": {
            "application/vnd.colab-display-data+json": {
              "pip_warning": {
                "packages": [
                  "gym"
                ]
              }
            }
          },
          "metadata": {}
        }
      ],
      "source": [
        "!pip install wheel==0.38.4\n",
        "!pip install setuptools==65.5.0\n",
        "!pip install stable-baselines3"
      ]
    },
    {
      "cell_type": "code",
      "execution_count": null,
      "metadata": {
        "id": "oexj67yWN5_k",
        "vscode": {
          "languageId": "python"
        },
        "colab": {
          "base_uri": "https://localhost:8080/"
        },
        "outputId": "37d68de4-5bed-4256-c511-91e40c1cf53f"
      },
      "outputs": [
        {
          "output_type": "stream",
          "name": "stdout",
          "text": [
            "Looking in indexes: https://pypi.org/simple, https://us-python.pkg.dev/colab-wheels/public/simple/\n",
            "Requirement already satisfied: sb3-contrib in /usr/local/lib/python3.10/dist-packages (1.8.0)\n",
            "Requirement already satisfied: stable-baselines3<2.0,>=1.8.0 in /usr/local/lib/python3.10/dist-packages (from sb3-contrib) (1.8.0)\n",
            "Requirement already satisfied: gym==0.21 in /usr/local/lib/python3.10/dist-packages (from stable-baselines3<2.0,>=1.8.0->sb3-contrib) (0.21.0)\n",
            "Requirement already satisfied: numpy in /usr/local/lib/python3.10/dist-packages (from stable-baselines3<2.0,>=1.8.0->sb3-contrib) (1.22.4)\n",
            "Requirement already satisfied: torch>=1.11 in /usr/local/lib/python3.10/dist-packages (from stable-baselines3<2.0,>=1.8.0->sb3-contrib) (2.0.1+cu118)\n",
            "Requirement already satisfied: cloudpickle in /usr/local/lib/python3.10/dist-packages (from stable-baselines3<2.0,>=1.8.0->sb3-contrib) (2.2.1)\n",
            "Requirement already satisfied: pandas in /usr/local/lib/python3.10/dist-packages (from stable-baselines3<2.0,>=1.8.0->sb3-contrib) (1.5.3)\n",
            "Requirement already satisfied: matplotlib in /usr/local/lib/python3.10/dist-packages (from stable-baselines3<2.0,>=1.8.0->sb3-contrib) (3.7.1)\n",
            "Requirement already satisfied: importlib-metadata~=4.13 in /usr/local/lib/python3.10/dist-packages (from stable-baselines3<2.0,>=1.8.0->sb3-contrib) (4.13.0)\n",
            "Requirement already satisfied: zipp>=0.5 in /usr/local/lib/python3.10/dist-packages (from importlib-metadata~=4.13->stable-baselines3<2.0,>=1.8.0->sb3-contrib) (3.15.0)\n",
            "Requirement already satisfied: filelock in /usr/local/lib/python3.10/dist-packages (from torch>=1.11->stable-baselines3<2.0,>=1.8.0->sb3-contrib) (3.12.0)\n",
            "Requirement already satisfied: typing-extensions in /usr/local/lib/python3.10/dist-packages (from torch>=1.11->stable-baselines3<2.0,>=1.8.0->sb3-contrib) (4.5.0)\n",
            "Requirement already satisfied: sympy in /usr/local/lib/python3.10/dist-packages (from torch>=1.11->stable-baselines3<2.0,>=1.8.0->sb3-contrib) (1.11.1)\n",
            "Requirement already satisfied: networkx in /usr/local/lib/python3.10/dist-packages (from torch>=1.11->stable-baselines3<2.0,>=1.8.0->sb3-contrib) (3.1)\n",
            "Requirement already satisfied: jinja2 in /usr/local/lib/python3.10/dist-packages (from torch>=1.11->stable-baselines3<2.0,>=1.8.0->sb3-contrib) (3.1.2)\n",
            "Requirement already satisfied: triton==2.0.0 in /usr/local/lib/python3.10/dist-packages (from torch>=1.11->stable-baselines3<2.0,>=1.8.0->sb3-contrib) (2.0.0)\n",
            "Requirement already satisfied: cmake in /usr/local/lib/python3.10/dist-packages (from triton==2.0.0->torch>=1.11->stable-baselines3<2.0,>=1.8.0->sb3-contrib) (3.25.2)\n",
            "Requirement already satisfied: lit in /usr/local/lib/python3.10/dist-packages (from triton==2.0.0->torch>=1.11->stable-baselines3<2.0,>=1.8.0->sb3-contrib) (16.0.5)\n",
            "Requirement already satisfied: contourpy>=1.0.1 in /usr/local/lib/python3.10/dist-packages (from matplotlib->stable-baselines3<2.0,>=1.8.0->sb3-contrib) (1.0.7)\n",
            "Requirement already satisfied: cycler>=0.10 in /usr/local/lib/python3.10/dist-packages (from matplotlib->stable-baselines3<2.0,>=1.8.0->sb3-contrib) (0.11.0)\n",
            "Requirement already satisfied: fonttools>=4.22.0 in /usr/local/lib/python3.10/dist-packages (from matplotlib->stable-baselines3<2.0,>=1.8.0->sb3-contrib) (4.39.3)\n",
            "Requirement already satisfied: kiwisolver>=1.0.1 in /usr/local/lib/python3.10/dist-packages (from matplotlib->stable-baselines3<2.0,>=1.8.0->sb3-contrib) (1.4.4)\n",
            "Requirement already satisfied: packaging>=20.0 in /usr/local/lib/python3.10/dist-packages (from matplotlib->stable-baselines3<2.0,>=1.8.0->sb3-contrib) (23.1)\n",
            "Requirement already satisfied: pillow>=6.2.0 in /usr/local/lib/python3.10/dist-packages (from matplotlib->stable-baselines3<2.0,>=1.8.0->sb3-contrib) (8.4.0)\n",
            "Requirement already satisfied: pyparsing>=2.3.1 in /usr/local/lib/python3.10/dist-packages (from matplotlib->stable-baselines3<2.0,>=1.8.0->sb3-contrib) (3.0.9)\n",
            "Requirement already satisfied: python-dateutil>=2.7 in /usr/local/lib/python3.10/dist-packages (from matplotlib->stable-baselines3<2.0,>=1.8.0->sb3-contrib) (2.8.2)\n",
            "Requirement already satisfied: pytz>=2020.1 in /usr/local/lib/python3.10/dist-packages (from pandas->stable-baselines3<2.0,>=1.8.0->sb3-contrib) (2022.7.1)\n",
            "Requirement already satisfied: six>=1.5 in /usr/local/lib/python3.10/dist-packages (from python-dateutil>=2.7->matplotlib->stable-baselines3<2.0,>=1.8.0->sb3-contrib) (1.16.0)\n",
            "Requirement already satisfied: MarkupSafe>=2.0 in /usr/local/lib/python3.10/dist-packages (from jinja2->torch>=1.11->stable-baselines3<2.0,>=1.8.0->sb3-contrib) (2.1.2)\n",
            "Requirement already satisfied: mpmath>=0.19 in /usr/local/lib/python3.10/dist-packages (from sympy->torch>=1.11->stable-baselines3<2.0,>=1.8.0->sb3-contrib) (1.3.0)\n"
          ]
        }
      ],
      "source": [
        "# Optional: install SB3 contrib to have access to additional algorithms\n",
        "!pip install sb3-contrib"
      ]
    },
    {
      "cell_type": "code",
      "execution_count": null,
      "metadata": {
        "id": "NNah91r9x9EL",
        "vscode": {
          "languageId": "python"
        },
        "colab": {
          "base_uri": "https://localhost:8080/"
        },
        "outputId": "4b975305-33c8-41d2-e77b-8c6706755e85"
      },
      "outputs": [
        {
          "output_type": "stream",
          "name": "stdout",
          "text": [
            "Looking in indexes: https://pypi.org/simple, https://us-python.pkg.dev/colab-wheels/public/simple/\n",
            "Requirement already satisfied: optuna in /usr/local/lib/python3.10/dist-packages (3.1.1)\n",
            "Requirement already satisfied: alembic>=1.5.0 in /usr/local/lib/python3.10/dist-packages (from optuna) (1.11.1)\n",
            "Requirement already satisfied: cmaes>=0.9.1 in /usr/local/lib/python3.10/dist-packages (from optuna) (0.9.1)\n",
            "Requirement already satisfied: colorlog in /usr/local/lib/python3.10/dist-packages (from optuna) (6.7.0)\n",
            "Requirement already satisfied: numpy in /usr/local/lib/python3.10/dist-packages (from optuna) (1.22.4)\n",
            "Requirement already satisfied: packaging>=20.0 in /usr/local/lib/python3.10/dist-packages (from optuna) (23.1)\n",
            "Requirement already satisfied: sqlalchemy>=1.3.0 in /usr/local/lib/python3.10/dist-packages (from optuna) (2.0.10)\n",
            "Requirement already satisfied: tqdm in /usr/local/lib/python3.10/dist-packages (from optuna) (4.65.0)\n",
            "Requirement already satisfied: PyYAML in /usr/local/lib/python3.10/dist-packages (from optuna) (6.0)\n",
            "Requirement already satisfied: Mako in /usr/local/lib/python3.10/dist-packages (from alembic>=1.5.0->optuna) (1.2.4)\n",
            "Requirement already satisfied: typing-extensions>=4 in /usr/local/lib/python3.10/dist-packages (from alembic>=1.5.0->optuna) (4.5.0)\n",
            "Requirement already satisfied: greenlet!=0.4.17 in /usr/local/lib/python3.10/dist-packages (from sqlalchemy>=1.3.0->optuna) (2.0.2)\n",
            "Requirement already satisfied: MarkupSafe>=0.9.2 in /usr/local/lib/python3.10/dist-packages (from Mako->alembic>=1.5.0->optuna) (2.1.2)\n"
          ]
        }
      ],
      "source": [
        "# Optuna will be used in the last part when doing hyperparameter tuning\n",
        "!pip install optuna"
      ]
    },
    {
      "cell_type": "markdown",
      "metadata": {
        "id": "FtY8FhliLsGm"
      },
      "source": [
        "## Imports"
      ]
    },
    {
      "cell_type": "code",
      "execution_count": null,
      "metadata": {
        "id": "BIedd7Pz9sOs",
        "vscode": {
          "languageId": "python"
        }
      },
      "outputs": [],
      "source": [
        "import gym\n",
        "import numpy as np"
      ]
    },
    {
      "cell_type": "markdown",
      "metadata": {
        "id": "Ae32CtgzTG3R"
      },
      "source": [
        "The first thing you need to import is the RL model, check the documentation to know what you can use on which problem"
      ]
    },
    {
      "cell_type": "code",
      "execution_count": null,
      "metadata": {
        "id": "R7tKaBFrTR0a",
        "vscode": {
          "languageId": "python"
        }
      },
      "outputs": [],
      "source": [
        "from stable_baselines3 import PPO, A2C, SAC, TD3, DQN"
      ]
    },
    {
      "cell_type": "code",
      "execution_count": null,
      "metadata": {
        "id": "EcsXmYRMON9W",
        "vscode": {
          "languageId": "python"
        }
      },
      "outputs": [],
      "source": [
        "# Algorithms from the contrib repo\n",
        "# https://github.com/Stable-Baselines-Team/stable-baselines3-contrib\n",
        "from sb3_contrib import QRDQN, TQC"
      ]
    },
    {
      "cell_type": "code",
      "execution_count": null,
      "metadata": {
        "id": "kLwjcfvuqtGE",
        "vscode": {
          "languageId": "python"
        }
      },
      "outputs": [],
      "source": [
        "from stable_baselines3.common.env_util import make_vec_env\n",
        "from stable_baselines3.common.evaluation import evaluate_policy"
      ]
    },
    {
      "cell_type": "markdown",
      "metadata": {
        "id": "-khNkrgcI6Z1"
      },
      "source": [
        "# Part I: The Importance Of Tuned Hyperparameters\n",
        "\n"
      ]
    },
    {
      "cell_type": "markdown",
      "metadata": {
        "id": "PytOtL9GdmrE"
      },
      "source": [
        "When compared with Supervised Learning, Deep Reinforcement Learning is far more sensitive to the choice of hyper-parameters such as learning rate, number of neurons, number of layers, optimizer ... etc. \n",
        "\n",
        "Poor choice of hyper-parameters can lead to poor/unstable convergence. This challenge is compounded by the variability in performance across random seeds (used to initialize the network weights and the environment)."
      ]
    },
    {
      "cell_type": "markdown",
      "metadata": {
        "id": "Hk8HSIC3qUjc"
      },
      "source": [
        "In addition to hyperparameters, selecting the appropriate algorithm is also an important choice. We will demonstrate it on the simple Pendulum task.\n",
        "\n",
        "See [gym doc](https://gym.openai.com/envs/Pendulum-v0/): \"The inverted pendulum swingup problem is a classic problem in the control literature. In this version  of the problem, the pendulum starts in a random position, and the goal is to swing it up so it stays upright.\"\n",
        "\n",
        "\n",
        "Let's try first with PPO and a small budget of 4000 steps (20 episodes):"
      ]
    },
    {
      "cell_type": "code",
      "execution_count": null,
      "metadata": {
        "id": "4ToIvihGq2N0",
        "vscode": {
          "languageId": "python"
        }
      },
      "outputs": [],
      "source": [
        "env_id = \"Pendulum-v1\"\n",
        "# Env used only for evaluation\n",
        "eval_envs = make_vec_env(env_id, n_envs=10)\n",
        "# 4000 training timesteps\n",
        "budget_pendulum = 4000"
      ]
    },
    {
      "cell_type": "markdown",
      "metadata": {
        "id": "EWT2r6QE4yew"
      },
      "source": [
        "### PPO"
      ]
    },
    {
      "cell_type": "code",
      "execution_count": null,
      "metadata": {
        "id": "KCHk_-_4ndux",
        "vscode": {
          "languageId": "python"
        }
      },
      "outputs": [],
      "source": [
        "ppo_model = PPO(\"MlpPolicy\", env_id, seed=0, verbose=0).learn(budget_pendulum)"
      ]
    },
    {
      "cell_type": "code",
      "execution_count": null,
      "metadata": {
        "colab": {
          "base_uri": "https://localhost:8080/"
        },
        "id": "TP9C9AqLndxz",
        "outputId": "4b809478-7c62-4bff-fdd9-3c5f308ce883",
        "vscode": {
          "languageId": "python"
        }
      },
      "outputs": [
        {
          "output_type": "stream",
          "name": "stdout",
          "text": [
            "PPO Mean episode reward: -1200.67 +/- 300.66\n"
          ]
        }
      ],
      "source": [
        "mean_reward, std_reward = evaluate_policy(ppo_model, eval_envs, n_eval_episodes=100, deterministic=True)\n",
        "\n",
        "print(f\"PPO Mean episode reward: {mean_reward:.2f} +/- {std_reward:.2f}\")"
      ]
    },
    {
      "cell_type": "markdown",
      "metadata": {
        "id": "uHmJaJLl5ds4"
      },
      "source": [
        "### A2C"
      ]
    },
    {
      "cell_type": "code",
      "execution_count": null,
      "metadata": {
        "id": "BLL_pws25jh0",
        "vscode": {
          "languageId": "python"
        }
      },
      "outputs": [],
      "source": [
        "# Define and train a A2C model\n"
      ]
    },
    {
      "cell_type": "code",
      "execution_count": null,
      "metadata": {
        "id": "ic83jZwB5nVk",
        "vscode": {
          "languageId": "python"
        }
      },
      "outputs": [],
      "source": [
        "# Evaluate the train A2C model\n",
        "mean_reward, std_reward = ...\n",
        "\n",
        "print(f\"A2C Mean episode reward: {mean_reward:.2f} +/- {std_reward:.2f}\")"
      ]
    },
    {
      "cell_type": "markdown",
      "metadata": {
        "id": "0_z1zFx2rVpG"
      },
      "source": [
        "Both are far from solving the env (mean reward around -200).\n",
        "Now, let's try with an off-policy algorithm:"
      ]
    },
    {
      "cell_type": "markdown",
      "metadata": {
        "id": "3wYaVZJU5VL5"
      },
      "source": [
        "### Training longer PPO ?\n",
        "\n",
        "Maybe training longer would help?\n",
        "\n",
        "You can try with 10x the budget, but in the case of A2C/PPO, training longer won't help much, finding better hyperparameters is needed instead."
      ]
    },
    {
      "cell_type": "code",
      "execution_count": null,
      "metadata": {
        "id": "hHsHpnQY6TWA",
        "vscode": {
          "languageId": "python"
        }
      },
      "outputs": [],
      "source": [
        "# train longer\n",
        "new_budget = 10 * budget_pendulum\n",
        "\n",
        "ppo_model = PPO(\"MlpPolicy\", env_id, seed=0, verbose=0).learn(new_budget)"
      ]
    },
    {
      "cell_type": "code",
      "execution_count": null,
      "metadata": {
        "id": "7OD9y1o36Xta",
        "vscode": {
          "languageId": "python"
        }
      },
      "outputs": [],
      "source": [
        "mean_reward, std_reward = evaluate_policy(ppo_model, eval_envs, n_eval_episodes=100, deterministic=True)\n",
        "\n",
        "print(f\"PPO Mean episode reward: {mean_reward:.2f} +/- {std_reward:.2f}\")"
      ]
    },
    {
      "cell_type": "markdown",
      "metadata": {
        "id": "YEvQ9SJ15Xmh"
      },
      "source": [
        "### PPO - Tuned Hyperparameters\n",
        "\n",
        "Using Optuna, we can in fact tune the hyperparameters and find a working solution (from the [RL Zoo](https://github.com/DLR-RM/rl-baselines3-zoo/blob/master/hyperparams/ppo.yml)):"
      ]
    },
    {
      "cell_type": "code",
      "execution_count": null,
      "metadata": {
        "id": "S-D_vvsb6jOZ",
        "vscode": {
          "languageId": "python"
        },
        "colab": {
          "base_uri": "https://localhost:8080/"
        },
        "outputId": "415b10da-8bd5-4223-95d8-44e7cc83af3c"
      },
      "outputs": [
        {
          "output_type": "stream",
          "name": "stdout",
          "text": [
            "Using cpu device\n",
            "Creating environment from the given name 'Pendulum-v1'\n",
            "Wrapping the env with a `Monitor` wrapper\n",
            "Wrapping the env in a DummyVecEnv.\n",
            "-----------------------------------------\n",
            "| rollout/                |             |\n",
            "|    ep_len_mean          | 200         |\n",
            "|    ep_rew_mean          | -1.22e+03   |\n",
            "| time/                   |             |\n",
            "|    fps                  | 624         |\n",
            "|    iterations           | 5           |\n",
            "|    time_elapsed         | 16          |\n",
            "|    total_timesteps      | 10240       |\n",
            "| train/                  |             |\n",
            "|    approx_kl            | 0.022206675 |\n",
            "|    clip_fraction        | 0.236       |\n",
            "|    clip_range           | 0.2         |\n",
            "|    entropy_loss         | -2.66       |\n",
            "|    explained_variance   | 0.835       |\n",
            "|    learning_rate        | 0.001       |\n",
            "|    loss                 | 7.2         |\n",
            "|    n_updates            | 40          |\n",
            "|    policy_gradient_loss | -0.0183     |\n",
            "|    std                  | 0.917       |\n",
            "|    value_loss           | 30          |\n",
            "-----------------------------------------\n",
            "----------------------------------------\n",
            "| rollout/                |            |\n",
            "|    ep_len_mean          | 200        |\n",
            "|    ep_rew_mean          | -1.05e+03  |\n",
            "| time/                   |            |\n",
            "|    fps                  | 543        |\n",
            "|    iterations           | 10         |\n",
            "|    time_elapsed         | 37         |\n",
            "|    total_timesteps      | 20480      |\n",
            "| train/                  |            |\n",
            "|    approx_kl            | 0.04578284 |\n",
            "|    clip_fraction        | 0.314      |\n",
            "|    clip_range           | 0.2        |\n",
            "|    entropy_loss         | -2.23      |\n",
            "|    explained_variance   | 0.959      |\n",
            "|    learning_rate        | 0.001      |\n",
            "|    loss                 | 4.01       |\n",
            "|    n_updates            | 90         |\n",
            "|    policy_gradient_loss | -0.0468    |\n",
            "|    std                  | 0.451      |\n",
            "|    value_loss           | 15.5       |\n",
            "----------------------------------------\n",
            "-----------------------------------------\n",
            "| rollout/                |             |\n",
            "|    ep_len_mean          | 200         |\n",
            "|    ep_rew_mean          | -641        |\n",
            "| time/                   |             |\n",
            "|    fps                  | 530         |\n",
            "|    iterations           | 15          |\n",
            "|    time_elapsed         | 57          |\n",
            "|    total_timesteps      | 30720       |\n",
            "| train/                  |             |\n",
            "|    approx_kl            | 0.021393834 |\n",
            "|    clip_fraction        | 0.265       |\n",
            "|    clip_range           | 0.2         |\n",
            "|    entropy_loss         | -1.58       |\n",
            "|    explained_variance   | 0.989       |\n",
            "|    learning_rate        | 0.001       |\n",
            "|    loss                 | 2.57        |\n",
            "|    n_updates            | 140         |\n",
            "|    policy_gradient_loss | -0.0296     |\n",
            "|    std                  | 0.296       |\n",
            "|    value_loss           | 4.86        |\n",
            "-----------------------------------------\n",
            "-----------------------------------------\n",
            "| rollout/                |             |\n",
            "|    ep_len_mean          | 200         |\n",
            "|    ep_rew_mean          | -334        |\n",
            "| time/                   |             |\n",
            "|    fps                  | 528         |\n",
            "|    iterations           | 20          |\n",
            "|    time_elapsed         | 77          |\n",
            "|    total_timesteps      | 40960       |\n",
            "| train/                  |             |\n",
            "|    approx_kl            | 0.018430993 |\n",
            "|    clip_fraction        | 0.235       |\n",
            "|    clip_range           | 0.2         |\n",
            "|    entropy_loss         | -1.27       |\n",
            "|    explained_variance   | 0.996       |\n",
            "|    learning_rate        | 0.001       |\n",
            "|    loss                 | 0.486       |\n",
            "|    n_updates            | 190         |\n",
            "|    policy_gradient_loss | -0.00119    |\n",
            "|    std                  | 0.252       |\n",
            "|    value_loss           | 1.17        |\n",
            "-----------------------------------------\n",
            "-----------------------------------------\n",
            "| rollout/                |             |\n",
            "|    ep_len_mean          | 200         |\n",
            "|    ep_rew_mean          | -234        |\n",
            "| time/                   |             |\n",
            "|    fps                  | 535         |\n",
            "|    iterations           | 25          |\n",
            "|    time_elapsed         | 95          |\n",
            "|    total_timesteps      | 51200       |\n",
            "| train/                  |             |\n",
            "|    approx_kl            | 0.029113237 |\n",
            "|    clip_fraction        | 0.207       |\n",
            "|    clip_range           | 0.2         |\n",
            "|    entropy_loss         | -1.05       |\n",
            "|    explained_variance   | 0.999       |\n",
            "|    learning_rate        | 0.001       |\n",
            "|    loss                 | 0.072       |\n",
            "|    n_updates            | 240         |\n",
            "|    policy_gradient_loss | -0.0116     |\n",
            "|    std                  | 0.202       |\n",
            "|    value_loss           | 0.203       |\n",
            "-----------------------------------------\n"
          ]
        }
      ],
      "source": [
        "tuned_params = {\n",
        "    \"gamma\": 0.9,\n",
        "    \"use_sde\": True,\n",
        "    \"sde_sample_freq\": 4,\n",
        "    \"learning_rate\": 1e-3,\n",
        "}\n",
        "# ppo_model = PPO(\"MlpPolicy\", env_id, seed=0, verbose=0).learn(budget_pendulum)\n",
        "# budget = 10 * budget_pendulum\n",
        "ppo_tuned_model = PPO(\"MlpPolicy\", env_id, seed=1, verbose=1, **tuned_params).learn(50_000, log_interval=5)"
      ]
    },
    {
      "cell_type": "code",
      "execution_count": null,
      "metadata": {
        "colab": {
          "base_uri": "https://localhost:8080/"
        },
        "id": "MLuxoLxt67xO",
        "outputId": "ecd8e1a3-1499-4670-c1c4-a5234365fdef",
        "vscode": {
          "languageId": "python"
        }
      },
      "outputs": [
        {
          "output_type": "stream",
          "name": "stdout",
          "text": [
            "Tuned PPO Mean episode reward: -200.17 +/- 117.24\n"
          ]
        }
      ],
      "source": [
        "mean_reward, std_reward = evaluate_policy(ppo_tuned_model, eval_envs, n_eval_episodes=100, deterministic=True)\n",
        "\n",
        "print(f\"Tuned PPO Mean episode reward: {mean_reward:.2f} +/- {std_reward:.2f}\")"
      ]
    },
    {
      "cell_type": "markdown",
      "metadata": {
        "id": "2H33u_apWPp5"
      },
      "source": [
        "Note: if you try SAC on the simple MountainCarContinuous environment, you will encounter some issues without tuned hyperparameters: https://github.com/rail-berkeley/softlearning/issues/76\n",
        "\n",
        "Simple environments can be challenging even for SOTA algorithms."
      ]
    },
    {
      "cell_type": "markdown",
      "metadata": {
        "id": "_vdpPJ04nebx"
      },
      "source": [
        "# Part II: Grad Student Descent\n"
      ]
    },
    {
      "cell_type": "markdown",
      "metadata": {
        "id": "n8PNN9kcgolk"
      },
      "source": [
        "### Challenge (10 minutes): \"Grad Student Descent\" \n",
        "The challenge is to find the best hyperparameters (max performance) for A2C on `CartPole-v1` with a limited budget of 20 000 training steps.\n",
        "\n",
        "\n",
        "Maximum reward: 500 on `CartPole-v1`\n",
        "\n",
        "The hyperparameters should work for different random seeds."
      ]
    },
    {
      "cell_type": "code",
      "execution_count": null,
      "metadata": {
        "id": "s6aqxsini7H3",
        "vscode": {
          "languageId": "python"
        }
      },
      "outputs": [],
      "source": [
        "budget = 20_000"
      ]
    },
    {
      "cell_type": "markdown",
      "metadata": {
        "id": "yDQ805DBi3KM"
      },
      "source": [
        "#### The baseline: default hyperparameters"
      ]
    },
    {
      "cell_type": "code",
      "execution_count": null,
      "metadata": {
        "id": "pyOCKf4Vt-HK",
        "vscode": {
          "languageId": "python"
        }
      },
      "outputs": [],
      "source": [
        "eval_envs_cartpole = make_vec_env(\"CartPole-v1\", n_envs=10)"
      ]
    },
    {
      "cell_type": "code",
      "execution_count": null,
      "metadata": {
        "id": "D1PSNGcsi2dP",
        "vscode": {
          "languageId": "python"
        },
        "colab": {
          "base_uri": "https://localhost:8080/"
        },
        "outputId": "44438a19-d663-46f1-bc33-60daed8753fe"
      },
      "outputs": [
        {
          "output_type": "stream",
          "name": "stdout",
          "text": [
            "Using cpu device\n",
            "Creating environment from the given name 'CartPole-v1'\n",
            "Wrapping the env with a `Monitor` wrapper\n",
            "Wrapping the env in a DummyVecEnv.\n",
            "------------------------------------\n",
            "| rollout/              |          |\n",
            "|    ep_len_mean        | 27.8     |\n",
            "|    ep_rew_mean        | 27.8     |\n",
            "| time/                 |          |\n",
            "|    fps                | 454      |\n",
            "|    iterations         | 100      |\n",
            "|    time_elapsed       | 1        |\n",
            "|    total_timesteps    | 500      |\n",
            "| train/                |          |\n",
            "|    entropy_loss       | -0.601   |\n",
            "|    explained_variance | 0.575    |\n",
            "|    learning_rate      | 0.0007   |\n",
            "|    n_updates          | 99       |\n",
            "|    policy_loss        | 1.99     |\n",
            "|    value_loss         | 7.26     |\n",
            "------------------------------------\n",
            "------------------------------------\n",
            "| rollout/              |          |\n",
            "|    ep_len_mean        | 27       |\n",
            "|    ep_rew_mean        | 27       |\n",
            "| time/                 |          |\n",
            "|    fps                | 484      |\n",
            "|    iterations         | 200      |\n",
            "|    time_elapsed       | 2        |\n",
            "|    total_timesteps    | 1000     |\n",
            "| train/                |          |\n",
            "|    entropy_loss       | -0.667   |\n",
            "|    explained_variance | -0.147   |\n",
            "|    learning_rate      | 0.0007   |\n",
            "|    n_updates          | 199      |\n",
            "|    policy_loss        | 1.9      |\n",
            "|    value_loss         | 8.77     |\n",
            "------------------------------------\n",
            "------------------------------------\n",
            "| rollout/              |          |\n",
            "|    ep_len_mean        | 26.7     |\n",
            "|    ep_rew_mean        | 26.7     |\n",
            "| time/                 |          |\n",
            "|    fps                | 488      |\n",
            "|    iterations         | 300      |\n",
            "|    time_elapsed       | 3        |\n",
            "|    total_timesteps    | 1500     |\n",
            "| train/                |          |\n",
            "|    entropy_loss       | -0.613   |\n",
            "|    explained_variance | -0.0135  |\n",
            "|    learning_rate      | 0.0007   |\n",
            "|    n_updates          | 299      |\n",
            "|    policy_loss        | -9.85    |\n",
            "|    value_loss         | 183      |\n",
            "------------------------------------\n",
            "------------------------------------\n",
            "| rollout/              |          |\n",
            "|    ep_len_mean        | 25       |\n",
            "|    ep_rew_mean        | 25       |\n",
            "| time/                 |          |\n",
            "|    fps                | 485      |\n",
            "|    iterations         | 400      |\n",
            "|    time_elapsed       | 4        |\n",
            "|    total_timesteps    | 2000     |\n",
            "| train/                |          |\n",
            "|    entropy_loss       | -0.64    |\n",
            "|    explained_variance | -0.142   |\n",
            "|    learning_rate      | 0.0007   |\n",
            "|    n_updates          | 399      |\n",
            "|    policy_loss        | 1.37     |\n",
            "|    value_loss         | 7.55     |\n",
            "------------------------------------\n",
            "------------------------------------\n",
            "| rollout/              |          |\n",
            "|    ep_len_mean        | 25.6     |\n",
            "|    ep_rew_mean        | 25.6     |\n",
            "| time/                 |          |\n",
            "|    fps                | 480      |\n",
            "|    iterations         | 500      |\n",
            "|    time_elapsed       | 5        |\n",
            "|    total_timesteps    | 2500     |\n",
            "| train/                |          |\n",
            "|    entropy_loss       | -0.66    |\n",
            "|    explained_variance | -0.0613  |\n",
            "|    learning_rate      | 0.0007   |\n",
            "|    n_updates          | 499      |\n",
            "|    policy_loss        | 1.04     |\n",
            "|    value_loss         | 6.14     |\n",
            "------------------------------------\n",
            "------------------------------------\n",
            "| rollout/              |          |\n",
            "|    ep_len_mean        | 25.7     |\n",
            "|    ep_rew_mean        | 25.7     |\n",
            "| time/                 |          |\n",
            "|    fps                | 475      |\n",
            "|    iterations         | 600      |\n",
            "|    time_elapsed       | 6        |\n",
            "|    total_timesteps    | 3000     |\n",
            "| train/                |          |\n",
            "|    entropy_loss       | -0.662   |\n",
            "|    explained_variance | 0.0022   |\n",
            "|    learning_rate      | 0.0007   |\n",
            "|    n_updates          | 599      |\n",
            "|    policy_loss        | -8.96    |\n",
            "|    value_loss         | 431      |\n",
            "------------------------------------\n",
            "------------------------------------\n",
            "| rollout/              |          |\n",
            "|    ep_len_mean        | 28.3     |\n",
            "|    ep_rew_mean        | 28.3     |\n",
            "| time/                 |          |\n",
            "|    fps                | 475      |\n",
            "|    iterations         | 700      |\n",
            "|    time_elapsed       | 7        |\n",
            "|    total_timesteps    | 3500     |\n",
            "| train/                |          |\n",
            "|    entropy_loss       | -0.55    |\n",
            "|    explained_variance | 0.00627  |\n",
            "|    learning_rate      | 0.0007   |\n",
            "|    n_updates          | 699      |\n",
            "|    policy_loss        | -21      |\n",
            "|    value_loss         | 553      |\n",
            "------------------------------------\n",
            "-------------------------------------\n",
            "| rollout/              |           |\n",
            "|    ep_len_mean        | 30.8      |\n",
            "|    ep_rew_mean        | 30.8      |\n",
            "| time/                 |           |\n",
            "|    fps                | 475       |\n",
            "|    iterations         | 800       |\n",
            "|    time_elapsed       | 8         |\n",
            "|    total_timesteps    | 4000      |\n",
            "| train/                |           |\n",
            "|    entropy_loss       | -0.685    |\n",
            "|    explained_variance | -0.000418 |\n",
            "|    learning_rate      | 0.0007    |\n",
            "|    n_updates          | 799       |\n",
            "|    policy_loss        | 1.2       |\n",
            "|    value_loss         | 4.33      |\n",
            "-------------------------------------\n",
            "------------------------------------\n",
            "| rollout/              |          |\n",
            "|    ep_len_mean        | 33.7     |\n",
            "|    ep_rew_mean        | 33.7     |\n",
            "| time/                 |          |\n",
            "|    fps                | 451      |\n",
            "|    iterations         | 900      |\n",
            "|    time_elapsed       | 9        |\n",
            "|    total_timesteps    | 4500     |\n",
            "| train/                |          |\n",
            "|    entropy_loss       | -0.599   |\n",
            "|    explained_variance | 0.00309  |\n",
            "|    learning_rate      | 0.0007   |\n",
            "|    n_updates          | 899      |\n",
            "|    policy_loss        | 1.11     |\n",
            "|    value_loss         | 3.83     |\n",
            "------------------------------------\n",
            "-------------------------------------\n",
            "| rollout/              |           |\n",
            "|    ep_len_mean        | 36.7      |\n",
            "|    ep_rew_mean        | 36.7      |\n",
            "| time/                 |           |\n",
            "|    fps                | 438       |\n",
            "|    iterations         | 1000      |\n",
            "|    time_elapsed       | 11        |\n",
            "|    total_timesteps    | 5000      |\n",
            "| train/                |           |\n",
            "|    entropy_loss       | -0.521    |\n",
            "|    explained_variance | -0.000618 |\n",
            "|    learning_rate      | 0.0007    |\n",
            "|    n_updates          | 999       |\n",
            "|    policy_loss        | 1.55      |\n",
            "|    value_loss         | 3.34      |\n",
            "-------------------------------------\n",
            "------------------------------------\n",
            "| rollout/              |          |\n",
            "|    ep_len_mean        | 39.1     |\n",
            "|    ep_rew_mean        | 39.1     |\n",
            "| time/                 |          |\n",
            "|    fps                | 421      |\n",
            "|    iterations         | 1100     |\n",
            "|    time_elapsed       | 13       |\n",
            "|    total_timesteps    | 5500     |\n",
            "| train/                |          |\n",
            "|    entropy_loss       | -0.649   |\n",
            "|    explained_variance | 0.000145 |\n",
            "|    learning_rate      | 0.0007   |\n",
            "|    n_updates          | 1099     |\n",
            "|    policy_loss        | 0.698    |\n",
            "|    value_loss         | 2.89     |\n",
            "------------------------------------\n",
            "-------------------------------------\n",
            "| rollout/              |           |\n",
            "|    ep_len_mean        | 43.1      |\n",
            "|    ep_rew_mean        | 43.1      |\n",
            "| time/                 |           |\n",
            "|    fps                | 412       |\n",
            "|    iterations         | 1200      |\n",
            "|    time_elapsed       | 14        |\n",
            "|    total_timesteps    | 6000      |\n",
            "| train/                |           |\n",
            "|    entropy_loss       | -0.574    |\n",
            "|    explained_variance | -4.26e-05 |\n",
            "|    learning_rate      | 0.0007    |\n",
            "|    n_updates          | 1199      |\n",
            "|    policy_loss        | -2.71     |\n",
            "|    value_loss         | 1.01e+03  |\n",
            "-------------------------------------\n",
            "-------------------------------------\n",
            "| rollout/              |           |\n",
            "|    ep_len_mean        | 46        |\n",
            "|    ep_rew_mean        | 46        |\n",
            "| time/                 |           |\n",
            "|    fps                | 402       |\n",
            "|    iterations         | 1300      |\n",
            "|    time_elapsed       | 16        |\n",
            "|    total_timesteps    | 6500      |\n",
            "| train/                |           |\n",
            "|    entropy_loss       | -0.604    |\n",
            "|    explained_variance | -0.000504 |\n",
            "|    learning_rate      | 0.0007    |\n",
            "|    n_updates          | 1299      |\n",
            "|    policy_loss        | 0.742     |\n",
            "|    value_loss         | 2.13      |\n",
            "-------------------------------------\n",
            "-------------------------------------\n",
            "| rollout/              |           |\n",
            "|    ep_len_mean        | 49.3      |\n",
            "|    ep_rew_mean        | 49.3      |\n",
            "| time/                 |           |\n",
            "|    fps                | 406       |\n",
            "|    iterations         | 1400      |\n",
            "|    time_elapsed       | 17        |\n",
            "|    total_timesteps    | 7000      |\n",
            "| train/                |           |\n",
            "|    entropy_loss       | -0.567    |\n",
            "|    explained_variance | -0.000808 |\n",
            "|    learning_rate      | 0.0007    |\n",
            "|    n_updates          | 1399      |\n",
            "|    policy_loss        | 0.628     |\n",
            "|    value_loss         | 1.78      |\n",
            "-------------------------------------\n",
            "-------------------------------------\n",
            "| rollout/              |           |\n",
            "|    ep_len_mean        | 51.7      |\n",
            "|    ep_rew_mean        | 51.7      |\n",
            "| time/                 |           |\n",
            "|    fps                | 407       |\n",
            "|    iterations         | 1500      |\n",
            "|    time_elapsed       | 18        |\n",
            "|    total_timesteps    | 7500      |\n",
            "| train/                |           |\n",
            "|    entropy_loss       | -0.537    |\n",
            "|    explained_variance | -9.76e-05 |\n",
            "|    learning_rate      | 0.0007    |\n",
            "|    n_updates          | 1499      |\n",
            "|    policy_loss        | 0.789     |\n",
            "|    value_loss         | 1.46      |\n",
            "-------------------------------------\n",
            "------------------------------------\n",
            "| rollout/              |          |\n",
            "|    ep_len_mean        | 54.2     |\n",
            "|    ep_rew_mean        | 54.2     |\n",
            "| time/                 |          |\n",
            "|    fps                | 410      |\n",
            "|    iterations         | 1600     |\n",
            "|    time_elapsed       | 19       |\n",
            "|    total_timesteps    | 8000     |\n",
            "| train/                |          |\n",
            "|    entropy_loss       | -0.67    |\n",
            "|    explained_variance | 8.52e-05 |\n",
            "|    learning_rate      | 0.0007   |\n",
            "|    n_updates          | 1599     |\n",
            "|    policy_loss        | 0.52     |\n",
            "|    value_loss         | 1.18     |\n",
            "------------------------------------\n",
            "------------------------------------\n",
            "| rollout/              |          |\n",
            "|    ep_len_mean        | 57.8     |\n",
            "|    ep_rew_mean        | 57.8     |\n",
            "| time/                 |          |\n",
            "|    fps                | 416      |\n",
            "|    iterations         | 1700     |\n",
            "|    time_elapsed       | 20       |\n",
            "|    total_timesteps    | 8500     |\n",
            "| train/                |          |\n",
            "|    entropy_loss       | -0.648   |\n",
            "|    explained_variance | 2.96e-05 |\n",
            "|    learning_rate      | 0.0007   |\n",
            "|    n_updates          | 1699     |\n",
            "|    policy_loss        | 0.441    |\n",
            "|    value_loss         | 0.906    |\n",
            "------------------------------------\n",
            "-------------------------------------\n",
            "| rollout/              |           |\n",
            "|    ep_len_mean        | 61.3      |\n",
            "|    ep_rew_mean        | 61.3      |\n",
            "| time/                 |           |\n",
            "|    fps                | 419       |\n",
            "|    iterations         | 1800      |\n",
            "|    time_elapsed       | 21        |\n",
            "|    total_timesteps    | 9000      |\n",
            "| train/                |           |\n",
            "|    entropy_loss       | -0.574    |\n",
            "|    explained_variance | -1.25e-05 |\n",
            "|    learning_rate      | 0.0007    |\n",
            "|    n_updates          | 1799      |\n",
            "|    policy_loss        | 0.535     |\n",
            "|    value_loss         | 0.664     |\n",
            "-------------------------------------\n",
            "-------------------------------------\n",
            "| rollout/              |           |\n",
            "|    ep_len_mean        | 66        |\n",
            "|    ep_rew_mean        | 66        |\n",
            "| time/                 |           |\n",
            "|    fps                | 424       |\n",
            "|    iterations         | 1900      |\n",
            "|    time_elapsed       | 22        |\n",
            "|    total_timesteps    | 9500      |\n",
            "| train/                |           |\n",
            "|    entropy_loss       | -0.495    |\n",
            "|    explained_variance | -0.000197 |\n",
            "|    learning_rate      | 0.0007    |\n",
            "|    n_updates          | 1899      |\n",
            "|    policy_loss        | 0.651     |\n",
            "|    value_loss         | 0.452     |\n",
            "-------------------------------------\n",
            "------------------------------------\n",
            "| rollout/              |          |\n",
            "|    ep_len_mean        | 69.5     |\n",
            "|    ep_rew_mean        | 69.5     |\n",
            "| time/                 |          |\n",
            "|    fps                | 418      |\n",
            "|    iterations         | 2000     |\n",
            "|    time_elapsed       | 23       |\n",
            "|    total_timesteps    | 10000    |\n",
            "| train/                |          |\n",
            "|    entropy_loss       | -0.635   |\n",
            "|    explained_variance | 4.76e-05 |\n",
            "|    learning_rate      | 0.0007   |\n",
            "|    n_updates          | 1999     |\n",
            "|    policy_loss        | 0.32     |\n",
            "|    value_loss         | 0.287    |\n",
            "------------------------------------\n",
            "-------------------------------------\n",
            "| rollout/              |           |\n",
            "|    ep_len_mean        | 74.2      |\n",
            "|    ep_rew_mean        | 74.2      |\n",
            "| time/                 |           |\n",
            "|    fps                | 412       |\n",
            "|    iterations         | 2100      |\n",
            "|    time_elapsed       | 25        |\n",
            "|    total_timesteps    | 10500     |\n",
            "| train/                |           |\n",
            "|    entropy_loss       | -0.615    |\n",
            "|    explained_variance | -0.000155 |\n",
            "|    learning_rate      | 0.0007    |\n",
            "|    n_updates          | 2099      |\n",
            "|    policy_loss        | 0.22      |\n",
            "|    value_loss         | 0.157     |\n",
            "-------------------------------------\n",
            "------------------------------------\n",
            "| rollout/              |          |\n",
            "|    ep_len_mean        | 77.2     |\n",
            "|    ep_rew_mean        | 77.2     |\n",
            "| time/                 |          |\n",
            "|    fps                | 410      |\n",
            "|    iterations         | 2200     |\n",
            "|    time_elapsed       | 26       |\n",
            "|    total_timesteps    | 11000    |\n",
            "| train/                |          |\n",
            "|    entropy_loss       | -0.611   |\n",
            "|    explained_variance | 0.000322 |\n",
            "|    learning_rate      | 0.0007   |\n",
            "|    n_updates          | 2199     |\n",
            "|    policy_loss        | 0.122    |\n",
            "|    value_loss         | 0.0638   |\n",
            "------------------------------------\n",
            "------------------------------------\n",
            "| rollout/              |          |\n",
            "|    ep_len_mean        | 80.4     |\n",
            "|    ep_rew_mean        | 80.4     |\n",
            "| time/                 |          |\n",
            "|    fps                | 413      |\n",
            "|    iterations         | 2300     |\n",
            "|    time_elapsed       | 27       |\n",
            "|    total_timesteps    | 11500    |\n",
            "| train/                |          |\n",
            "|    entropy_loss       | -0.624   |\n",
            "|    explained_variance | -0.00028 |\n",
            "|    learning_rate      | 0.0007   |\n",
            "|    n_updates          | 2299     |\n",
            "|    policy_loss        | 0.0468   |\n",
            "|    value_loss         | 0.0121   |\n",
            "------------------------------------\n",
            "------------------------------------\n",
            "| rollout/              |          |\n",
            "|    ep_len_mean        | 85.5     |\n",
            "|    ep_rew_mean        | 85.5     |\n",
            "| time/                 |          |\n",
            "|    fps                | 412      |\n",
            "|    iterations         | 2400     |\n",
            "|    time_elapsed       | 29       |\n",
            "|    total_timesteps    | 12000    |\n",
            "| train/                |          |\n",
            "|    entropy_loss       | -0.575   |\n",
            "|    explained_variance | 0.00405  |\n",
            "|    learning_rate      | 0.0007   |\n",
            "|    n_updates          | 2399     |\n",
            "|    policy_loss        | 0.00389  |\n",
            "|    value_loss         | 0.000189 |\n",
            "------------------------------------\n",
            "------------------------------------\n",
            "| rollout/              |          |\n",
            "|    ep_len_mean        | 89.6     |\n",
            "|    ep_rew_mean        | 89.6     |\n",
            "| time/                 |          |\n",
            "|    fps                | 413      |\n",
            "|    iterations         | 2500     |\n",
            "|    time_elapsed       | 30       |\n",
            "|    total_timesteps    | 12500    |\n",
            "| train/                |          |\n",
            "|    entropy_loss       | -0.634   |\n",
            "|    explained_variance | -0.00722 |\n",
            "|    learning_rate      | 0.0007   |\n",
            "|    n_updates          | 2499     |\n",
            "|    policy_loss        | 0.000625 |\n",
            "|    value_loss         | 2.07e-06 |\n",
            "------------------------------------\n",
            "------------------------------------\n",
            "| rollout/              |          |\n",
            "|    ep_len_mean        | 94.4     |\n",
            "|    ep_rew_mean        | 94.4     |\n",
            "| time/                 |          |\n",
            "|    fps                | 414      |\n",
            "|    iterations         | 2600     |\n",
            "|    time_elapsed       | 31       |\n",
            "|    total_timesteps    | 13000    |\n",
            "| train/                |          |\n",
            "|    entropy_loss       | -0.592   |\n",
            "|    explained_variance | -0.0223  |\n",
            "|    learning_rate      | 0.0007   |\n",
            "|    n_updates          | 2599     |\n",
            "|    policy_loss        | 0.00114  |\n",
            "|    value_loss         | 5.32e-06 |\n",
            "------------------------------------\n",
            "------------------------------------\n",
            "| rollout/              |          |\n",
            "|    ep_len_mean        | 96.2     |\n",
            "|    ep_rew_mean        | 96.2     |\n",
            "| time/                 |          |\n",
            "|    fps                | 416      |\n",
            "|    iterations         | 2700     |\n",
            "|    time_elapsed       | 32       |\n",
            "|    total_timesteps    | 13500    |\n",
            "| train/                |          |\n",
            "|    entropy_loss       | -0.645   |\n",
            "|    explained_variance | 0.234    |\n",
            "|    learning_rate      | 0.0007   |\n",
            "|    n_updates          | 2699     |\n",
            "|    policy_loss        | 9.99e-05 |\n",
            "|    value_loss         | 3.46e-08 |\n",
            "------------------------------------\n",
            "------------------------------------\n",
            "| rollout/              |          |\n",
            "|    ep_len_mean        | 101      |\n",
            "|    ep_rew_mean        | 101      |\n",
            "| time/                 |          |\n",
            "|    fps                | 417      |\n",
            "|    iterations         | 2800     |\n",
            "|    time_elapsed       | 33       |\n",
            "|    total_timesteps    | 14000    |\n",
            "| train/                |          |\n",
            "|    entropy_loss       | -0.632   |\n",
            "|    explained_variance | -0.00526 |\n",
            "|    learning_rate      | 0.0007   |\n",
            "|    n_updates          | 2799     |\n",
            "|    policy_loss        | 0.00149  |\n",
            "|    value_loss         | 1.51e-05 |\n",
            "------------------------------------\n",
            "------------------------------------\n",
            "| rollout/              |          |\n",
            "|    ep_len_mean        | 103      |\n",
            "|    ep_rew_mean        | 103      |\n",
            "| time/                 |          |\n",
            "|    fps                | 417      |\n",
            "|    iterations         | 2900     |\n",
            "|    time_elapsed       | 34       |\n",
            "|    total_timesteps    | 14500    |\n",
            "| train/                |          |\n",
            "|    entropy_loss       | -0.638   |\n",
            "|    explained_variance | nan      |\n",
            "|    learning_rate      | 0.0007   |\n",
            "|    n_updates          | 2899     |\n",
            "|    policy_loss        | -2.5e-05 |\n",
            "|    value_loss         | 1.89e-09 |\n",
            "------------------------------------\n",
            "------------------------------------\n",
            "| rollout/              |          |\n",
            "|    ep_len_mean        | 109      |\n",
            "|    ep_rew_mean        | 109      |\n",
            "| time/                 |          |\n",
            "|    fps                | 418      |\n",
            "|    iterations         | 3000     |\n",
            "|    time_elapsed       | 35       |\n",
            "|    total_timesteps    | 15000    |\n",
            "| train/                |          |\n",
            "|    entropy_loss       | -0.472   |\n",
            "|    explained_variance | 0.0715   |\n",
            "|    learning_rate      | 0.0007   |\n",
            "|    n_updates          | 2999     |\n",
            "|    policy_loss        | 0.00041  |\n",
            "|    value_loss         | 3.51e-06 |\n",
            "------------------------------------\n",
            "------------------------------------\n",
            "| rollout/              |          |\n",
            "|    ep_len_mean        | 112      |\n",
            "|    ep_rew_mean        | 112      |\n",
            "| time/                 |          |\n",
            "|    fps                | 418      |\n",
            "|    iterations         | 3100     |\n",
            "|    time_elapsed       | 37       |\n",
            "|    total_timesteps    | 15500    |\n",
            "| train/                |          |\n",
            "|    entropy_loss       | -0.593   |\n",
            "|    explained_variance | -12.3    |\n",
            "|    learning_rate      | 0.0007   |\n",
            "|    n_updates          | 3099     |\n",
            "|    policy_loss        | 6.07e-05 |\n",
            "|    value_loss         | 1.89e-08 |\n",
            "------------------------------------\n",
            "------------------------------------\n",
            "| rollout/              |          |\n",
            "|    ep_len_mean        | 117      |\n",
            "|    ep_rew_mean        | 117      |\n",
            "| time/                 |          |\n",
            "|    fps                | 415      |\n",
            "|    iterations         | 3200     |\n",
            "|    time_elapsed       | 38       |\n",
            "|    total_timesteps    | 16000    |\n",
            "| train/                |          |\n",
            "|    entropy_loss       | -0.646   |\n",
            "|    explained_variance | -0.00977 |\n",
            "|    learning_rate      | 0.0007   |\n",
            "|    n_updates          | 3199     |\n",
            "|    policy_loss        | 0.000727 |\n",
            "|    value_loss         | 2.66e-06 |\n",
            "------------------------------------\n",
            "------------------------------------\n",
            "| rollout/              |          |\n",
            "|    ep_len_mean        | 120      |\n",
            "|    ep_rew_mean        | 120      |\n",
            "| time/                 |          |\n",
            "|    fps                | 409      |\n",
            "|    iterations         | 3300     |\n",
            "|    time_elapsed       | 40       |\n",
            "|    total_timesteps    | 16500    |\n",
            "| train/                |          |\n",
            "|    entropy_loss       | -0.598   |\n",
            "|    explained_variance | -0.0638  |\n",
            "|    learning_rate      | 0.0007   |\n",
            "|    n_updates          | 3299     |\n",
            "|    policy_loss        | 0.000461 |\n",
            "|    value_loss         | 1.33e-06 |\n",
            "------------------------------------\n",
            "------------------------------------\n",
            "| rollout/              |          |\n",
            "|    ep_len_mean        | 121      |\n",
            "|    ep_rew_mean        | 121      |\n",
            "| time/                 |          |\n",
            "|    fps                | 408      |\n",
            "|    iterations         | 3400     |\n",
            "|    time_elapsed       | 41       |\n",
            "|    total_timesteps    | 17000    |\n",
            "| train/                |          |\n",
            "|    entropy_loss       | -0.584   |\n",
            "|    explained_variance | nan      |\n",
            "|    learning_rate      | 0.0007   |\n",
            "|    n_updates          | 3399     |\n",
            "|    policy_loss        | 4.07e-05 |\n",
            "|    value_loss         | 4.68e-09 |\n",
            "------------------------------------\n",
            "------------------------------------\n",
            "| rollout/              |          |\n",
            "|    ep_len_mean        | 126      |\n",
            "|    ep_rew_mean        | 126      |\n",
            "| time/                 |          |\n",
            "|    fps                | 408      |\n",
            "|    iterations         | 3500     |\n",
            "|    time_elapsed       | 42       |\n",
            "|    total_timesteps    | 17500    |\n",
            "| train/                |          |\n",
            "|    entropy_loss       | -0.615   |\n",
            "|    explained_variance | 0.04     |\n",
            "|    learning_rate      | 0.0007   |\n",
            "|    n_updates          | 3499     |\n",
            "|    policy_loss        | 0.000274 |\n",
            "|    value_loss         | 2.44e-07 |\n",
            "------------------------------------\n",
            "------------------------------------\n",
            "| rollout/              |          |\n",
            "|    ep_len_mean        | 126      |\n",
            "|    ep_rew_mean        | 126      |\n",
            "| time/                 |          |\n",
            "|    fps                | 408      |\n",
            "|    iterations         | 3600     |\n",
            "|    time_elapsed       | 44       |\n",
            "|    total_timesteps    | 18000    |\n",
            "| train/                |          |\n",
            "|    entropy_loss       | -0.557   |\n",
            "|    explained_variance | -707     |\n",
            "|    learning_rate      | 0.0007   |\n",
            "|    n_updates          | 3599     |\n",
            "|    policy_loss        | 1.41e-05 |\n",
            "|    value_loss         | 2.92e-08 |\n",
            "------------------------------------\n",
            "-------------------------------------\n",
            "| rollout/              |           |\n",
            "|    ep_len_mean        | 131       |\n",
            "|    ep_rew_mean        | 131       |\n",
            "| time/                 |           |\n",
            "|    fps                | 409       |\n",
            "|    iterations         | 3700      |\n",
            "|    time_elapsed       | 45        |\n",
            "|    total_timesteps    | 18500     |\n",
            "| train/                |           |\n",
            "|    entropy_loss       | -0.584    |\n",
            "|    explained_variance | -23.9     |\n",
            "|    learning_rate      | 0.0007    |\n",
            "|    n_updates          | 3699      |\n",
            "|    policy_loss        | -7.86e-05 |\n",
            "|    value_loss         | 8.2e-08   |\n",
            "-------------------------------------\n",
            "-------------------------------------\n",
            "| rollout/              |           |\n",
            "|    ep_len_mean        | 135       |\n",
            "|    ep_rew_mean        | 135       |\n",
            "| time/                 |           |\n",
            "|    fps                | 410       |\n",
            "|    iterations         | 3800      |\n",
            "|    time_elapsed       | 46        |\n",
            "|    total_timesteps    | 19000     |\n",
            "| train/                |           |\n",
            "|    entropy_loss       | -0.584    |\n",
            "|    explained_variance | 0.4       |\n",
            "|    learning_rate      | 0.0007    |\n",
            "|    n_updates          | 3799      |\n",
            "|    policy_loss        | -6.96e-07 |\n",
            "|    value_loss         | 6.98e-11  |\n",
            "-------------------------------------\n",
            "------------------------------------\n",
            "| rollout/              |          |\n",
            "|    ep_len_mean        | 139      |\n",
            "|    ep_rew_mean        | 139      |\n",
            "| time/                 |          |\n",
            "|    fps                | 412      |\n",
            "|    iterations         | 3900     |\n",
            "|    time_elapsed       | 47       |\n",
            "|    total_timesteps    | 19500    |\n",
            "| train/                |          |\n",
            "|    entropy_loss       | -0.612   |\n",
            "|    explained_variance | -21.6    |\n",
            "|    learning_rate      | 0.0007   |\n",
            "|    n_updates          | 3899     |\n",
            "|    policy_loss        | 1.03e-05 |\n",
            "|    value_loss         | 3.08e-08 |\n",
            "------------------------------------\n",
            "-------------------------------------\n",
            "| rollout/              |           |\n",
            "|    ep_len_mean        | 142       |\n",
            "|    ep_rew_mean        | 142       |\n",
            "| time/                 |           |\n",
            "|    fps                | 412       |\n",
            "|    iterations         | 4000      |\n",
            "|    time_elapsed       | 48        |\n",
            "|    total_timesteps    | 20000     |\n",
            "| train/                |           |\n",
            "|    entropy_loss       | -0.668    |\n",
            "|    explained_variance | nan       |\n",
            "|    learning_rate      | 0.0007    |\n",
            "|    n_updates          | 3999      |\n",
            "|    policy_loss        | -7.19e-06 |\n",
            "|    value_loss         | 1.86e-10  |\n",
            "-------------------------------------\n"
          ]
        }
      ],
      "source": [
        "model = A2C(\"MlpPolicy\", \"CartPole-v1\", seed=8, verbose=1).learn(budget)"
      ]
    },
    {
      "cell_type": "code",
      "execution_count": null,
      "metadata": {
        "colab": {
          "base_uri": "https://localhost:8080/"
        },
        "id": "2d3X0G0ng2OE",
        "outputId": "5c60c3a4-a894-40f5-83c3-160aa956e3a8",
        "vscode": {
          "languageId": "python"
        }
      },
      "outputs": [
        {
          "output_type": "stream",
          "name": "stdout",
          "text": [
            "mean_reward:388.22 +/- 83.54\n"
          ]
        }
      ],
      "source": [
        "mean_reward, std_reward = evaluate_policy(model, eval_envs_cartpole, n_eval_episodes=50, deterministic=True)\n",
        "\n",
        "print(f\"mean_reward:{mean_reward:.2f} +/- {std_reward:.2f}\")"
      ]
    },
    {
      "cell_type": "markdown",
      "metadata": {
        "id": "B-fi1-oKnUI2"
      },
      "source": [
        "**Your goal is to beat that baseline and get closer to the optimal score of 500**"
      ]
    },
    {
      "cell_type": "markdown",
      "metadata": {
        "id": "qvq8zizok1X_"
      },
      "source": [
        "Time to tune!"
      ]
    },
    {
      "cell_type": "code",
      "execution_count": null,
      "metadata": {
        "id": "UaqCCH4gkRH_",
        "vscode": {
          "languageId": "python"
        }
      },
      "outputs": [],
      "source": [
        "import torch.nn as nn"
      ]
    },
    {
      "cell_type": "code",
      "execution_count": null,
      "metadata": {
        "id": "uDUfeZcyjPKS",
        "vscode": {
          "languageId": "python"
        }
      },
      "outputs": [],
      "source": [
        "policy_kwargs = dict(\n",
        "    net_arch=[\n",
        "      dict(vf=[64, 64], pi=[64, 64]), # network architectures for actor/critic\n",
        "    ],\n",
        "    activation_fn=nn.Tanh,\n",
        ")\n",
        "\n",
        "hyperparams = dict(\n",
        "    n_steps=2 ** trial.suggest_int(\"n_steps\", 3, 10), # number of steps to collect data before updating policy\n",
        "    learning_rate=7e-4,\n",
        "    gamma=0.99, # discount factor\n",
        "    max_grad_norm=0.5, # The maximum value for the gradient clipping\n",
        "    ent_coef=0.0, # Entropy coefficient for the loss calculation\n",
        ")\n",
        "\n",
        "model = A2C(\"MlpPolicy\", \"CartPole-v1\", seed=8, verbose=1, **hyperparams).learn(budget)"
      ]
    },
    {
      "cell_type": "code",
      "execution_count": null,
      "metadata": {
        "vscode": {
          "languageId": "python"
        },
        "id": "sR4jJyVjUAjb"
      },
      "outputs": [],
      "source": [
        "mean_reward, std_reward = evaluate_policy(model, eval_envs_cartpole, n_eval_episodes=50, deterministic=True)\n",
        "\n",
        "print(f\"mean_reward:{mean_reward:.2f} +/- {std_reward:.2f}\")"
      ]
    },
    {
      "cell_type": "markdown",
      "metadata": {
        "id": "iL_G9DurUV75"
      },
      "source": [
        "Hint - Recommended Hyperparameter Range\n",
        "\n",
        "```python\n",
        "gamma = trial.suggest_float(\"gamma\", 0.9, 0.99999, log=True)\n",
        "max_grad_norm = trial.suggest_float(\"max_grad_norm\", 0.3, 5.0, log=True)\n",
        "# from 2**3 = 8 to 2**10 = 1024\n",
        "n_steps = 2 ** trial.suggest_int(\"exponent_n_steps\", 3, 10)\n",
        "learning_rate = trial.suggest_float(\"lr\", 1e-5, 1, log=True)\n",
        "ent_coef = trial.suggest_float(\"ent_coef\", 0.00000001, 0.1, log=True)\n",
        "# net_arch tiny: {\"pi\": [64], \"vf\": [64]}\n",
        "# net_arch default: {\"pi\": [64, 64], \"vf\": [64, 64]}\n",
        "# activation_fn = nn.Tanh / nn.ReLU\n",
        "```"
      ]
    },
    {
      "cell_type": "markdown",
      "metadata": {
        "id": "QwFOp0j-ga-_"
      },
      "source": [
        "# Part III: Automatic Hyperparameter Tuning\n",
        "\n",
        "\n",
        "\n"
      ]
    },
    {
      "cell_type": "markdown",
      "metadata": {
        "id": "88x7wMyyud5p"
      },
      "source": [
        "In this part we will create a script that allows to search for the best hyperparameters automatically."
      ]
    },
    {
      "cell_type": "markdown",
      "metadata": {
        "id": "auwR-30IvHeY"
      },
      "source": [
        "### Imports"
      ]
    },
    {
      "cell_type": "code",
      "execution_count": null,
      "metadata": {
        "id": "VM6tUr-yuekR",
        "vscode": {
          "languageId": "python"
        }
      },
      "outputs": [],
      "source": [
        "import optuna\n",
        "from optuna.pruners import MedianPruner\n",
        "from optuna.samplers import TPESampler\n",
        "from optuna.visualization import plot_optimization_history, plot_param_importances"
      ]
    },
    {
      "cell_type": "markdown",
      "metadata": {
        "id": "ZQVfmM1dzA1d"
      },
      "source": [
        "### Config"
      ]
    },
    {
      "cell_type": "code",
      "execution_count": null,
      "metadata": {
        "id": "yyBTVcAGzCRk",
        "vscode": {
          "languageId": "python"
        }
      },
      "outputs": [],
      "source": [
        "N_TRIALS = 100  # Maximum number of trials\n",
        "N_JOBS = 1 # Number of jobs to run in parallel\n",
        "N_STARTUP_TRIALS = 5  # Stop random sampling after N_STARTUP_TRIALS\n",
        "N_EVALUATIONS = 2  # Number of evaluations during the training\n",
        "N_TIMESTEPS = int(2e4)  # Training budget\n",
        "EVAL_FREQ = int(N_TIMESTEPS / N_EVALUATIONS)\n",
        "N_EVAL_ENVS = 5\n",
        "N_EVAL_EPISODES = 10\n",
        "TIMEOUT = int(60 * 15)  # 15 minutes\n",
        "\n",
        "ENV_ID = \"CartPole-v1\"\n",
        "\n",
        "DEFAULT_HYPERPARAMS = {\n",
        "    \"policy\": \"MlpPolicy\",\n",
        "    \"env\": ENV_ID,\n",
        "}"
      ]
    },
    {
      "cell_type": "markdown",
      "metadata": {
        "id": "25HgcDYzvJ0b"
      },
      "source": [
        "### Exercise (5 minutes): Define the search space"
      ]
    },
    {
      "cell_type": "code",
      "execution_count": null,
      "metadata": {
        "id": "KXo8AwGAvN8Q",
        "vscode": {
          "languageId": "python"
        }
      },
      "outputs": [],
      "source": [
        "from typing import Any, Dict\n",
        "import torch\n",
        "import torch.nn as nn\n",
        "\n",
        "def sample_a2c_params(trial: optuna.Trial) -> Dict[str, Any]:\n",
        "    \"\"\"\n",
        "    Sampler for A2C hyperparameters.\n",
        "\n",
        "    :param trial: Optuna trial object\n",
        "    :return: The sampled hyperparameters for the given trial.\n",
        "    \"\"\"\n",
        "    # Discount factor between 0.9 and 0.9999\n",
        "    gamma = 1.0 - trial.suggest_float(\"gamma\", 0.0001, 0.1, log=True)\n",
        "    max_grad_norm = trial.suggest_float(\"max_grad_norm\", 0.3, 5.0, log=True)\n",
        "    # 8, 16, 32, ... 1024\n",
        "    n_steps = 2 ** trial.suggest_int(\"exponent_n_steps\", 3, 10)\n",
        "\n",
        "    ### YOUR CODE HERE\n",
        "    # TODO:\n",
        "    # - define the learning rate search space [1e-5, 1] (log) -> `suggest_float`\n",
        "    # - define the network architecture search space [\"tiny\", \"small\"] -> `suggest_categorical`\n",
        "    # - define the activation function search space [\"tanh\", \"relu\"]\n",
        "    learning_rate = trial.suggest_float(\"learning rate\", 1e-5, 1, log=True)\n",
        "    net_arch = trial.suggest_categorical(\"net_arch\", [\"tiny\", \"small\"])\n",
        "    activation_fn = trial.suggest_categorical(\"activation_fn\", [\"tanh\", \"relu\"])\n",
        "\n",
        "    ### END OF YOUR CODE\n",
        "\n",
        "    # Display true values\n",
        "    trial.set_user_attr(\"gamma_\", gamma)\n",
        "    trial.set_user_attr(\"n_steps\", n_steps)\n",
        "\n",
        "    net_arch = [\n",
        "        {\"pi\": [64], \"vf\": [64]}\n",
        "        if net_arch == \"tiny\"\n",
        "        else {\"pi\": [64, 64], \"vf\": [64, 64]}\n",
        "    ]\n",
        "\n",
        "    activation_fn = {\"tanh\": nn.Tanh, \"relu\": nn.ReLU}[activation_fn]\n",
        "\n",
        "    return {\n",
        "        \"n_steps\": n_steps,\n",
        "        \"gamma\": gamma,\n",
        "        \"learning_rate\": learning_rate,\n",
        "        \"max_grad_norm\": max_grad_norm,\n",
        "        \"policy_kwargs\": {\n",
        "            \"net_arch\": net_arch,\n",
        "            \"activation_fn\": activation_fn,\n",
        "        },\n",
        "    }"
      ]
    },
    {
      "cell_type": "markdown",
      "metadata": {
        "id": "iybymNiJxNu7"
      },
      "source": [
        "### Define the objective function"
      ]
    },
    {
      "cell_type": "markdown",
      "metadata": {
        "id": "YJY8Z8tuxai7"
      },
      "source": [
        "First we define a custom callback to report the results of periodic evaluations to Optuna:"
      ]
    },
    {
      "cell_type": "code",
      "execution_count": null,
      "metadata": {
        "id": "U5ijWTPzxSmd",
        "vscode": {
          "languageId": "python"
        }
      },
      "outputs": [],
      "source": [
        "from stable_baselines3.common.callbacks import EvalCallback\n",
        "\n",
        "class TrialEvalCallback(EvalCallback):\n",
        "    \"\"\"\n",
        "    Callback used for evaluating and reporting a trial.\n",
        "    \n",
        "    :param eval_env: Evaluation environement\n",
        "    :param trial: Optuna trial object\n",
        "    :param n_eval_episodes: Number of evaluation episodes\n",
        "    :param eval_freq:   Evaluate the agent every ``eval_freq`` call of the callback.\n",
        "    :param deterministic: Whether the evaluation should\n",
        "        use a stochastic or deterministic policy.\n",
        "    :param verbose:\n",
        "    \"\"\"\n",
        "\n",
        "    def __init__(\n",
        "        self,\n",
        "        eval_env: gym.Env,\n",
        "        trial: optuna.Trial,\n",
        "        n_eval_episodes: int = 5,\n",
        "        eval_freq: int = 10000,\n",
        "        deterministic: bool = True,\n",
        "        verbose: int = 0,\n",
        "    ):\n",
        "\n",
        "        super().__init__(\n",
        "            eval_env=eval_env,\n",
        "            n_eval_episodes=n_eval_episodes,\n",
        "            eval_freq=eval_freq,\n",
        "            deterministic=deterministic,\n",
        "            verbose=verbose,\n",
        "        )\n",
        "        self.trial = trial\n",
        "        self.eval_idx = 0\n",
        "        self.is_pruned = False\n",
        "\n",
        "    def _on_step(self) -> bool:\n",
        "        if self.eval_freq > 0 and self.n_calls % self.eval_freq == 0:\n",
        "            # Evaluate policy (done in the parent class)\n",
        "            super()._on_step()\n",
        "            self.eval_idx += 1\n",
        "            # Send report to Optuna\n",
        "            self.trial.report(self.last_mean_reward, self.eval_idx)\n",
        "            # Prune trial if need\n",
        "            if self.trial.should_prune():\n",
        "                self.is_pruned = True\n",
        "                return False\n",
        "        return True"
      ]
    },
    {
      "cell_type": "markdown",
      "metadata": {
        "id": "8cHNM_cFO3vs"
      },
      "source": [
        "### Exercise (10 minutes): Define the objective function"
      ]
    },
    {
      "cell_type": "markdown",
      "metadata": {
        "id": "76voi9AXxlCq"
      },
      "source": [
        "Then we define the objective function that is in charge of sampling hyperparameters, creating the model and then returning the result to Optuna"
      ]
    },
    {
      "cell_type": "code",
      "execution_count": null,
      "metadata": {
        "id": "E0yEokTDxhrC",
        "vscode": {
          "languageId": "python"
        }
      },
      "outputs": [],
      "source": [
        "def objective(trial: optuna.Trial) -> float:\n",
        "    \"\"\"\n",
        "    Objective function using by Optuna to evaluate\n",
        "    one configuration (i.e., one set of hyperparameters).\n",
        "\n",
        "    Given a trial object, it will sample hyperparameters,\n",
        "    evaluate it and report the result (mean episodic reward after training)\n",
        "\n",
        "    :param trial: Optuna trial object\n",
        "    :return: Mean episodic reward after training\n",
        "    \"\"\"\n",
        "\n",
        "    kwargs = DEFAULT_HYPERPARAMS.copy()\n",
        "    ### YOUR CODE HERE\n",
        "    # TODO: \n",
        "    # 1. Sample hyperparameters and update the default keyword arguments: `kwargs.update(other_params)`\n",
        "    # 2. Create the evaluation envs\n",
        "    # 3. Create the `TrialEvalCallback`\n",
        "\n",
        "    # 1. Sample hyperparameters and update the keyword arguments\n",
        "    kwargs.update(sample_a2c_params(trial))\n",
        "    # Create the RL model\n",
        "    model = A2C(**kwargs)\n",
        "\n",
        "    # 2. Create envs used for evaluation using `make_vec_env`, `ENV_ID` and `N_EVAL_ENVS`\n",
        "    eval_envs = make_vec_env(ENV_ID, n_envs=N_EVAL_ENVS)\n",
        "\n",
        "    # 3. Create the `TrialEvalCallback` callback defined above that will periodically evaluate\n",
        "    # and report the performance using `N_EVAL_EPISODES` every `EVAL_FREQ`\n",
        "    # TrialEvalCallback signature:\n",
        "    # TrialEvalCallback(eval_env, trial, n_eval_episodes, eval_freq, deterministic, verbose)\n",
        "    eval_callback = TrialEvalCallback(\n",
        "        eval_env=eval_envs,\n",
        "        trial=trial,\n",
        "        n_eval_episodes=N_EVAL_EPISODES,\n",
        "        eval_freq=EVAL_FREQ,\n",
        "        deterministic=True,\n",
        "        verbose=0,\n",
        "    )\n",
        "\n",
        "    ### END OF YOUR CODE\n",
        "\n",
        "    nan_encountered = False\n",
        "    try:\n",
        "        # Train the model\n",
        "        model.learn(N_TIMESTEPS, callback=eval_callback)\n",
        "    except AssertionError as e:\n",
        "        # Sometimes, random hyperparams can generate NaN\n",
        "        print(e)\n",
        "        nan_encountered = True\n",
        "    finally:\n",
        "        # Free memory\n",
        "        model.env.close()\n",
        "        eval_envs.close()\n",
        "\n",
        "    # Tell the optimizer that the trial failed\n",
        "    if nan_encountered:\n",
        "        return float(\"nan\")\n",
        "\n",
        "    if eval_callback.is_pruned:\n",
        "        raise optuna.exceptions.TrialPruned()\n",
        "\n",
        "    return eval_callback.last_mean_reward"
      ]
    },
    {
      "cell_type": "markdown",
      "metadata": {
        "id": "jMFLu_M0ymzj"
      },
      "source": [
        "### The optimization loop"
      ]
    },
    {
      "cell_type": "code",
      "execution_count": null,
      "metadata": {
        "id": "4UU17YpjymPr",
        "vscode": {
          "languageId": "python"
        },
        "colab": {
          "base_uri": "https://localhost:8080/",
          "height": 1000
        },
        "outputId": "9afb6328-ffab-43ca-9421-6ead1c078fee"
      },
      "outputs": [
        {
          "output_type": "stream",
          "name": "stderr",
          "text": [
            "\u001b[32m[I 2023-05-23 07:59:33,588]\u001b[0m A new study created in memory with name: no-name-9332e9c1-bab9-413e-b68c-d16df128040a\u001b[0m\n",
            "/usr/local/lib/python3.10/dist-packages/stable_baselines3/common/policies.py:457: UserWarning: As shared layers in the mlp_extractor are removed since SB3 v1.8.0, you should now pass directly a dictionary and not a list (net_arch=dict(pi=..., vf=...) instead of net_arch=[dict(pi=..., vf=...)])\n",
            "  warnings.warn(\n",
            "\u001b[32m[I 2023-05-23 08:00:10,267]\u001b[0m Trial 0 finished with value: 86.2 and parameters: {'gamma': 0.028760662672582496, 'max_grad_norm': 3.2953643802218906, 'exponent_n_steps': 3, 'learning rate': 3.7979371238872376e-05, 'net_arch': 'small', 'activation_fn': 'tanh'}. Best is trial 0 with value: 86.2.\u001b[0m\n",
            "\u001b[32m[I 2023-05-23 08:00:40,969]\u001b[0m Trial 1 finished with value: 9.9 and parameters: {'gamma': 0.005412877992418977, 'max_grad_norm': 2.1819461202188455, 'exponent_n_steps': 4, 'learning rate': 0.04024586463482085, 'net_arch': 'small', 'activation_fn': 'relu'}. Best is trial 0 with value: 86.2.\u001b[0m\n",
            "\u001b[32m[I 2023-05-23 08:01:04,848]\u001b[0m Trial 2 finished with value: 500.0 and parameters: {'gamma': 0.08863924390449174, 'max_grad_norm': 0.7310832735295064, 'exponent_n_steps': 10, 'learning rate': 0.0018410892515688846, 'net_arch': 'small', 'activation_fn': 'tanh'}. Best is trial 2 with value: 500.0.\u001b[0m\n",
            "\u001b[32m[I 2023-05-23 08:01:25,363]\u001b[0m Trial 3 finished with value: 9.6 and parameters: {'gamma': 0.001633818329347929, 'max_grad_norm': 2.407730492043614, 'exponent_n_steps': 8, 'learning rate': 0.34147750230781304, 'net_arch': 'tiny', 'activation_fn': 'tanh'}. Best is trial 2 with value: 500.0.\u001b[0m\n",
            "\u001b[32m[I 2023-05-23 08:01:46,899]\u001b[0m Trial 4 finished with value: 140.6 and parameters: {'gamma': 0.0008068072967636079, 'max_grad_norm': 1.822473671169602, 'exponent_n_steps': 9, 'learning rate': 0.00023335926800287723, 'net_arch': 'tiny', 'activation_fn': 'tanh'}. Best is trial 2 with value: 500.0.\u001b[0m\n",
            "\u001b[32m[I 2023-05-23 08:02:12,468]\u001b[0m Trial 5 finished with value: 286.7 and parameters: {'gamma': 0.08588878104896805, 'max_grad_norm': 0.5050629186419425, 'exponent_n_steps': 10, 'learning rate': 0.0019425114874156077, 'net_arch': 'small', 'activation_fn': 'relu'}. Best is trial 2 with value: 500.0.\u001b[0m\n",
            "\u001b[32m[I 2023-05-23 08:02:38,365]\u001b[0m Trial 6 finished with value: 500.0 and parameters: {'gamma': 0.00010669172502281397, 'max_grad_norm': 0.6988634336453018, 'exponent_n_steps': 6, 'learning rate': 0.0033794741185745134, 'net_arch': 'small', 'activation_fn': 'tanh'}. Best is trial 2 with value: 500.0.\u001b[0m\n",
            "\u001b[32m[I 2023-05-23 08:02:49,329]\u001b[0m Trial 7 pruned. \u001b[0m\n",
            "\u001b[32m[I 2023-05-23 08:02:58,605]\u001b[0m Trial 8 pruned. \u001b[0m\n",
            "\u001b[32m[I 2023-05-23 08:03:24,308]\u001b[0m Trial 9 finished with value: 459.5 and parameters: {'gamma': 0.016667460859540628, 'max_grad_norm': 1.0078555868266097, 'exponent_n_steps': 6, 'learning rate': 0.00046760400317342267, 'net_arch': 'small', 'activation_fn': 'tanh'}. Best is trial 2 with value: 500.0.\u001b[0m\n",
            "\u001b[32m[I 2023-05-23 08:03:34,797]\u001b[0m Trial 10 pruned. \u001b[0m\n",
            "\u001b[32m[I 2023-05-23 08:03:48,019]\u001b[0m Trial 11 pruned. \u001b[0m\n",
            "\u001b[32m[I 2023-05-23 08:04:12,338]\u001b[0m Trial 12 finished with value: 432.3 and parameters: {'gamma': 0.0002851936954900943, 'max_grad_norm': 1.3721916732308461, 'exponent_n_steps': 6, 'learning rate': 0.0005493107248845483, 'net_arch': 'small', 'activation_fn': 'tanh'}. Best is trial 2 with value: 500.0.\u001b[0m\n",
            "\u001b[32m[I 2023-05-23 08:04:23,155]\u001b[0m Trial 13 pruned. \u001b[0m\n",
            "\u001b[32m[I 2023-05-23 08:04:49,879]\u001b[0m Trial 14 finished with value: 340.8 and parameters: {'gamma': 0.003015587688162084, 'max_grad_norm': 1.2178687479332002, 'exponent_n_steps': 5, 'learning rate': 0.0014576228189082535, 'net_arch': 'small', 'activation_fn': 'tanh'}. Best is trial 2 with value: 500.0.\u001b[0m\n",
            "\u001b[32m[I 2023-05-23 08:05:01,224]\u001b[0m Trial 15 pruned. \u001b[0m\n",
            "\u001b[32m[I 2023-05-23 08:05:29,466]\u001b[0m Trial 16 finished with value: 500.0 and parameters: {'gamma': 0.00036164724414361064, 'max_grad_norm': 0.9776688680405048, 'exponent_n_steps': 5, 'learning rate': 0.0008755027888416567, 'net_arch': 'small', 'activation_fn': 'tanh'}. Best is trial 2 with value: 500.0.\u001b[0m\n",
            "\u001b[32m[I 2023-05-23 08:05:41,208]\u001b[0m Trial 17 pruned. \u001b[0m\n",
            "\u001b[32m[I 2023-05-23 08:05:56,185]\u001b[0m Trial 18 pruned. \u001b[0m\n",
            "\u001b[32m[I 2023-05-23 08:06:06,573]\u001b[0m Trial 19 pruned. \u001b[0m\n",
            "\u001b[32m[I 2023-05-23 08:06:28,514]\u001b[0m Trial 20 finished with value: 500.0 and parameters: {'gamma': 0.09839549425465159, 'max_grad_norm': 0.6175765364217786, 'exponent_n_steps': 7, 'learning rate': 0.0020364447342806403, 'net_arch': 'small', 'activation_fn': 'tanh'}. Best is trial 2 with value: 500.0.\u001b[0m\n",
            "\u001b[32m[I 2023-05-23 08:06:55,080]\u001b[0m Trial 21 finished with value: 496.7 and parameters: {'gamma': 0.00044205088875691733, 'max_grad_norm': 0.9178434405310238, 'exponent_n_steps': 5, 'learning rate': 0.0010728222739488946, 'net_arch': 'small', 'activation_fn': 'tanh'}. Best is trial 2 with value: 500.0.\u001b[0m\n",
            "\u001b[32m[I 2023-05-23 08:07:10,302]\u001b[0m Trial 22 pruned. \u001b[0m\n",
            "\u001b[32m[I 2023-05-23 08:07:22,558]\u001b[0m Trial 23 pruned. \u001b[0m\n",
            "\u001b[32m[I 2023-05-23 08:07:36,807]\u001b[0m Trial 24 pruned. \u001b[0m\n",
            "\u001b[32m[I 2023-05-23 08:07:49,907]\u001b[0m Trial 25 pruned. \u001b[0m\n",
            "\u001b[32m[I 2023-05-23 08:08:00,685]\u001b[0m Trial 26 pruned. \u001b[0m\n",
            "\u001b[32m[I 2023-05-23 08:08:11,598]\u001b[0m Trial 27 pruned. \u001b[0m\n",
            "\u001b[32m[I 2023-05-23 08:08:24,927]\u001b[0m Trial 28 pruned. \u001b[0m\n",
            "\u001b[32m[I 2023-05-23 08:08:36,342]\u001b[0m Trial 29 pruned. \u001b[0m\n",
            "\u001b[32m[I 2023-05-23 08:08:52,677]\u001b[0m Trial 30 pruned. \u001b[0m\n",
            "\u001b[32m[I 2023-05-23 08:09:03,118]\u001b[0m Trial 31 pruned. \u001b[0m\n",
            "\u001b[32m[I 2023-05-23 08:09:24,471]\u001b[0m Trial 32 pruned. \u001b[0m\n",
            "\u001b[32m[I 2023-05-23 08:09:34,508]\u001b[0m Trial 33 pruned. \u001b[0m\n",
            "\u001b[32m[I 2023-05-23 08:09:43,724]\u001b[0m Trial 34 pruned. \u001b[0m\n",
            "\u001b[32m[I 2023-05-23 08:10:02,820]\u001b[0m Trial 35 finished with value: 241.5 and parameters: {'gamma': 0.02265776807545002, 'max_grad_norm': 0.42350438373365334, 'exponent_n_steps': 9, 'learning rate': 0.01774147952710604, 'net_arch': 'tiny', 'activation_fn': 'relu'}. Best is trial 2 with value: 500.0.\u001b[0m\n",
            "\u001b[32m[I 2023-05-23 08:10:14,074]\u001b[0m Trial 36 pruned. \u001b[0m\n",
            "\u001b[32m[I 2023-05-23 08:10:34,659]\u001b[0m Trial 37 finished with value: 137.0 and parameters: {'gamma': 0.0613751891883693, 'max_grad_norm': 0.5227057289795665, 'exponent_n_steps': 8, 'learning rate': 0.001964904106233383, 'net_arch': 'small', 'activation_fn': 'tanh'}. Best is trial 2 with value: 500.0.\u001b[0m\n",
            "\u001b[32m[I 2023-05-23 08:10:44,599]\u001b[0m Trial 38 pruned. \u001b[0m\n",
            "\u001b[32m[I 2023-05-23 08:10:54,745]\u001b[0m Trial 39 pruned. \u001b[0m\n",
            "\u001b[32m[I 2023-05-23 08:11:04,728]\u001b[0m Trial 40 pruned. \u001b[0m\n",
            "\u001b[32m[I 2023-05-23 08:11:16,398]\u001b[0m Trial 41 pruned. \u001b[0m\n",
            "\u001b[32m[I 2023-05-23 08:11:51,170]\u001b[0m Trial 42 finished with value: 396.8 and parameters: {'gamma': 0.0005968338536837639, 'max_grad_norm': 0.7872597685350333, 'exponent_n_steps': 4, 'learning rate': 0.0009929011648461717, 'net_arch': 'small', 'activation_fn': 'tanh'}. Best is trial 2 with value: 500.0.\u001b[0m\n",
            "\u001b[32m[I 2023-05-23 08:12:04,190]\u001b[0m Trial 43 pruned. \u001b[0m\n",
            "\u001b[32m[I 2023-05-23 08:12:13,837]\u001b[0m Trial 44 pruned. \u001b[0m\n",
            "\u001b[32m[I 2023-05-23 08:12:36,489]\u001b[0m Trial 45 finished with value: 471.7 and parameters: {'gamma': 0.0013077372863683665, 'max_grad_norm': 0.6433761577245598, 'exponent_n_steps': 5, 'learning rate': 0.00032729690856187795, 'net_arch': 'small', 'activation_fn': 'tanh'}. Best is trial 2 with value: 500.0.\u001b[0m\n",
            "\u001b[32m[I 2023-05-23 08:12:45,483]\u001b[0m Trial 46 pruned. \u001b[0m\n",
            "\u001b[32m[I 2023-05-23 08:12:56,909]\u001b[0m Trial 47 pruned. \u001b[0m\n",
            "\u001b[32m[I 2023-05-23 08:13:06,797]\u001b[0m Trial 48 pruned. \u001b[0m\n",
            "\u001b[32m[I 2023-05-23 08:13:16,513]\u001b[0m Trial 49 pruned. \u001b[0m\n",
            "\u001b[32m[I 2023-05-23 08:13:27,601]\u001b[0m Trial 50 pruned. \u001b[0m\n",
            "\u001b[32m[I 2023-05-23 08:13:38,330]\u001b[0m Trial 51 pruned. \u001b[0m\n",
            "\u001b[32m[I 2023-05-23 08:13:48,383]\u001b[0m Trial 52 pruned. \u001b[0m\n",
            "\u001b[32m[I 2023-05-23 08:13:58,485]\u001b[0m Trial 53 pruned. \u001b[0m\n",
            "\u001b[32m[I 2023-05-23 08:14:12,996]\u001b[0m Trial 54 pruned. \u001b[0m\n",
            "\u001b[32m[I 2023-05-23 08:14:25,409]\u001b[0m Trial 55 pruned. \u001b[0m\n",
            "\u001b[32m[I 2023-05-23 08:14:34,968]\u001b[0m Trial 56 pruned. \u001b[0m\n"
          ]
        },
        {
          "output_type": "stream",
          "name": "stdout",
          "text": [
            "Number of finished trials:  57\n",
            "Best trial:\n",
            "  Value: 500.0\n",
            "  Params: \n",
            "    gamma: 0.08863924390449174\n",
            "    max_grad_norm: 0.7310832735295064\n",
            "    exponent_n_steps: 10\n",
            "    learning rate: 0.0018410892515688846\n",
            "    net_arch: small\n",
            "    activation_fn: tanh\n",
            "  User attrs:\n",
            "    gamma_: 0.9113607560955083\n",
            "    n_steps: 1024\n"
          ]
        },
        {
          "output_type": "display_data",
          "data": {
            "text/html": [
              "<html>\n",
              "<head><meta charset=\"utf-8\" /></head>\n",
              "<body>\n",
              "    <div>            <script src=\"https://cdnjs.cloudflare.com/ajax/libs/mathjax/2.7.5/MathJax.js?config=TeX-AMS-MML_SVG\"></script><script type=\"text/javascript\">if (window.MathJax && window.MathJax.Hub && window.MathJax.Hub.Config) {window.MathJax.Hub.Config({SVG: {font: \"STIX-Web\"}});}</script>                <script type=\"text/javascript\">window.PlotlyConfig = {MathJaxConfig: 'local'};</script>\n",
              "        <script src=\"https://cdn.plot.ly/plotly-2.18.2.min.js\"></script>                <div id=\"ba6ab197-b7ed-4f7a-a8a2-deb517c4c0dc\" class=\"plotly-graph-div\" style=\"height:525px; width:100%;\"></div>            <script type=\"text/javascript\">                                    window.PLOTLYENV=window.PLOTLYENV || {};                                    if (document.getElementById(\"ba6ab197-b7ed-4f7a-a8a2-deb517c4c0dc\")) {                    Plotly.newPlot(                        \"ba6ab197-b7ed-4f7a-a8a2-deb517c4c0dc\",                        [{\"mode\":\"markers\",\"name\":\"Objective Value\",\"x\":[0,1,2,3,4,5,6,9,12,14,16,20,21,35,37,42,45],\"y\":[86.2,9.9,500.0,9.6,140.6,286.7,500.0,459.5,432.3,340.8,500.0,500.0,496.7,241.5,137.0,396.8,471.7],\"type\":\"scatter\"},{\"name\":\"Best Value\",\"x\":[0,1,2,3,4,5,6,9,12,14,16,20,21,35,37,42,45],\"y\":[86.2,86.2,500.0,500.0,500.0,500.0,500.0,500.0,500.0,500.0,500.0,500.0,500.0,500.0,500.0,500.0,500.0],\"type\":\"scatter\"}],                        {\"title\":{\"text\":\"Optimization History Plot\"},\"xaxis\":{\"title\":{\"text\":\"Trial\"}},\"yaxis\":{\"title\":{\"text\":\"Objective Value\"}},\"template\":{\"data\":{\"histogram2dcontour\":[{\"type\":\"histogram2dcontour\",\"colorbar\":{\"outlinewidth\":0,\"ticks\":\"\"},\"colorscale\":[[0.0,\"#0d0887\"],[0.1111111111111111,\"#46039f\"],[0.2222222222222222,\"#7201a8\"],[0.3333333333333333,\"#9c179e\"],[0.4444444444444444,\"#bd3786\"],[0.5555555555555556,\"#d8576b\"],[0.6666666666666666,\"#ed7953\"],[0.7777777777777778,\"#fb9f3a\"],[0.8888888888888888,\"#fdca26\"],[1.0,\"#f0f921\"]]}],\"choropleth\":[{\"type\":\"choropleth\",\"colorbar\":{\"outlinewidth\":0,\"ticks\":\"\"}}],\"histogram2d\":[{\"type\":\"histogram2d\",\"colorbar\":{\"outlinewidth\":0,\"ticks\":\"\"},\"colorscale\":[[0.0,\"#0d0887\"],[0.1111111111111111,\"#46039f\"],[0.2222222222222222,\"#7201a8\"],[0.3333333333333333,\"#9c179e\"],[0.4444444444444444,\"#bd3786\"],[0.5555555555555556,\"#d8576b\"],[0.6666666666666666,\"#ed7953\"],[0.7777777777777778,\"#fb9f3a\"],[0.8888888888888888,\"#fdca26\"],[1.0,\"#f0f921\"]]}],\"heatmap\":[{\"type\":\"heatmap\",\"colorbar\":{\"outlinewidth\":0,\"ticks\":\"\"},\"colorscale\":[[0.0,\"#0d0887\"],[0.1111111111111111,\"#46039f\"],[0.2222222222222222,\"#7201a8\"],[0.3333333333333333,\"#9c179e\"],[0.4444444444444444,\"#bd3786\"],[0.5555555555555556,\"#d8576b\"],[0.6666666666666666,\"#ed7953\"],[0.7777777777777778,\"#fb9f3a\"],[0.8888888888888888,\"#fdca26\"],[1.0,\"#f0f921\"]]}],\"heatmapgl\":[{\"type\":\"heatmapgl\",\"colorbar\":{\"outlinewidth\":0,\"ticks\":\"\"},\"colorscale\":[[0.0,\"#0d0887\"],[0.1111111111111111,\"#46039f\"],[0.2222222222222222,\"#7201a8\"],[0.3333333333333333,\"#9c179e\"],[0.4444444444444444,\"#bd3786\"],[0.5555555555555556,\"#d8576b\"],[0.6666666666666666,\"#ed7953\"],[0.7777777777777778,\"#fb9f3a\"],[0.8888888888888888,\"#fdca26\"],[1.0,\"#f0f921\"]]}],\"contourcarpet\":[{\"type\":\"contourcarpet\",\"colorbar\":{\"outlinewidth\":0,\"ticks\":\"\"}}],\"contour\":[{\"type\":\"contour\",\"colorbar\":{\"outlinewidth\":0,\"ticks\":\"\"},\"colorscale\":[[0.0,\"#0d0887\"],[0.1111111111111111,\"#46039f\"],[0.2222222222222222,\"#7201a8\"],[0.3333333333333333,\"#9c179e\"],[0.4444444444444444,\"#bd3786\"],[0.5555555555555556,\"#d8576b\"],[0.6666666666666666,\"#ed7953\"],[0.7777777777777778,\"#fb9f3a\"],[0.8888888888888888,\"#fdca26\"],[1.0,\"#f0f921\"]]}],\"surface\":[{\"type\":\"surface\",\"colorbar\":{\"outlinewidth\":0,\"ticks\":\"\"},\"colorscale\":[[0.0,\"#0d0887\"],[0.1111111111111111,\"#46039f\"],[0.2222222222222222,\"#7201a8\"],[0.3333333333333333,\"#9c179e\"],[0.4444444444444444,\"#bd3786\"],[0.5555555555555556,\"#d8576b\"],[0.6666666666666666,\"#ed7953\"],[0.7777777777777778,\"#fb9f3a\"],[0.8888888888888888,\"#fdca26\"],[1.0,\"#f0f921\"]]}],\"mesh3d\":[{\"type\":\"mesh3d\",\"colorbar\":{\"outlinewidth\":0,\"ticks\":\"\"}}],\"scatter\":[{\"fillpattern\":{\"fillmode\":\"overlay\",\"size\":10,\"solidity\":0.2},\"type\":\"scatter\"}],\"parcoords\":[{\"type\":\"parcoords\",\"line\":{\"colorbar\":{\"outlinewidth\":0,\"ticks\":\"\"}}}],\"scatterpolargl\":[{\"type\":\"scatterpolargl\",\"marker\":{\"colorbar\":{\"outlinewidth\":0,\"ticks\":\"\"}}}],\"bar\":[{\"error_x\":{\"color\":\"#2a3f5f\"},\"error_y\":{\"color\":\"#2a3f5f\"},\"marker\":{\"line\":{\"color\":\"#E5ECF6\",\"width\":0.5},\"pattern\":{\"fillmode\":\"overlay\",\"size\":10,\"solidity\":0.2}},\"type\":\"bar\"}],\"scattergeo\":[{\"type\":\"scattergeo\",\"marker\":{\"colorbar\":{\"outlinewidth\":0,\"ticks\":\"\"}}}],\"scatterpolar\":[{\"type\":\"scatterpolar\",\"marker\":{\"colorbar\":{\"outlinewidth\":0,\"ticks\":\"\"}}}],\"histogram\":[{\"marker\":{\"pattern\":{\"fillmode\":\"overlay\",\"size\":10,\"solidity\":0.2}},\"type\":\"histogram\"}],\"scattergl\":[{\"type\":\"scattergl\",\"marker\":{\"colorbar\":{\"outlinewidth\":0,\"ticks\":\"\"}}}],\"scatter3d\":[{\"type\":\"scatter3d\",\"line\":{\"colorbar\":{\"outlinewidth\":0,\"ticks\":\"\"}},\"marker\":{\"colorbar\":{\"outlinewidth\":0,\"ticks\":\"\"}}}],\"scattermapbox\":[{\"type\":\"scattermapbox\",\"marker\":{\"colorbar\":{\"outlinewidth\":0,\"ticks\":\"\"}}}],\"scatterternary\":[{\"type\":\"scatterternary\",\"marker\":{\"colorbar\":{\"outlinewidth\":0,\"ticks\":\"\"}}}],\"scattercarpet\":[{\"type\":\"scattercarpet\",\"marker\":{\"colorbar\":{\"outlinewidth\":0,\"ticks\":\"\"}}}],\"carpet\":[{\"aaxis\":{\"endlinecolor\":\"#2a3f5f\",\"gridcolor\":\"white\",\"linecolor\":\"white\",\"minorgridcolor\":\"white\",\"startlinecolor\":\"#2a3f5f\"},\"baxis\":{\"endlinecolor\":\"#2a3f5f\",\"gridcolor\":\"white\",\"linecolor\":\"white\",\"minorgridcolor\":\"white\",\"startlinecolor\":\"#2a3f5f\"},\"type\":\"carpet\"}],\"table\":[{\"cells\":{\"fill\":{\"color\":\"#EBF0F8\"},\"line\":{\"color\":\"white\"}},\"header\":{\"fill\":{\"color\":\"#C8D4E3\"},\"line\":{\"color\":\"white\"}},\"type\":\"table\"}],\"barpolar\":[{\"marker\":{\"line\":{\"color\":\"#E5ECF6\",\"width\":0.5},\"pattern\":{\"fillmode\":\"overlay\",\"size\":10,\"solidity\":0.2}},\"type\":\"barpolar\"}],\"pie\":[{\"automargin\":true,\"type\":\"pie\"}]},\"layout\":{\"autotypenumbers\":\"strict\",\"colorway\":[\"#636efa\",\"#EF553B\",\"#00cc96\",\"#ab63fa\",\"#FFA15A\",\"#19d3f3\",\"#FF6692\",\"#B6E880\",\"#FF97FF\",\"#FECB52\"],\"font\":{\"color\":\"#2a3f5f\"},\"hovermode\":\"closest\",\"hoverlabel\":{\"align\":\"left\"},\"paper_bgcolor\":\"white\",\"plot_bgcolor\":\"#E5ECF6\",\"polar\":{\"bgcolor\":\"#E5ECF6\",\"angularaxis\":{\"gridcolor\":\"white\",\"linecolor\":\"white\",\"ticks\":\"\"},\"radialaxis\":{\"gridcolor\":\"white\",\"linecolor\":\"white\",\"ticks\":\"\"}},\"ternary\":{\"bgcolor\":\"#E5ECF6\",\"aaxis\":{\"gridcolor\":\"white\",\"linecolor\":\"white\",\"ticks\":\"\"},\"baxis\":{\"gridcolor\":\"white\",\"linecolor\":\"white\",\"ticks\":\"\"},\"caxis\":{\"gridcolor\":\"white\",\"linecolor\":\"white\",\"ticks\":\"\"}},\"coloraxis\":{\"colorbar\":{\"outlinewidth\":0,\"ticks\":\"\"}},\"colorscale\":{\"sequential\":[[0.0,\"#0d0887\"],[0.1111111111111111,\"#46039f\"],[0.2222222222222222,\"#7201a8\"],[0.3333333333333333,\"#9c179e\"],[0.4444444444444444,\"#bd3786\"],[0.5555555555555556,\"#d8576b\"],[0.6666666666666666,\"#ed7953\"],[0.7777777777777778,\"#fb9f3a\"],[0.8888888888888888,\"#fdca26\"],[1.0,\"#f0f921\"]],\"sequentialminus\":[[0.0,\"#0d0887\"],[0.1111111111111111,\"#46039f\"],[0.2222222222222222,\"#7201a8\"],[0.3333333333333333,\"#9c179e\"],[0.4444444444444444,\"#bd3786\"],[0.5555555555555556,\"#d8576b\"],[0.6666666666666666,\"#ed7953\"],[0.7777777777777778,\"#fb9f3a\"],[0.8888888888888888,\"#fdca26\"],[1.0,\"#f0f921\"]],\"diverging\":[[0,\"#8e0152\"],[0.1,\"#c51b7d\"],[0.2,\"#de77ae\"],[0.3,\"#f1b6da\"],[0.4,\"#fde0ef\"],[0.5,\"#f7f7f7\"],[0.6,\"#e6f5d0\"],[0.7,\"#b8e186\"],[0.8,\"#7fbc41\"],[0.9,\"#4d9221\"],[1,\"#276419\"]]},\"xaxis\":{\"gridcolor\":\"white\",\"linecolor\":\"white\",\"ticks\":\"\",\"title\":{\"standoff\":15},\"zerolinecolor\":\"white\",\"automargin\":true,\"zerolinewidth\":2},\"yaxis\":{\"gridcolor\":\"white\",\"linecolor\":\"white\",\"ticks\":\"\",\"title\":{\"standoff\":15},\"zerolinecolor\":\"white\",\"automargin\":true,\"zerolinewidth\":2},\"scene\":{\"xaxis\":{\"backgroundcolor\":\"#E5ECF6\",\"gridcolor\":\"white\",\"linecolor\":\"white\",\"showbackground\":true,\"ticks\":\"\",\"zerolinecolor\":\"white\",\"gridwidth\":2},\"yaxis\":{\"backgroundcolor\":\"#E5ECF6\",\"gridcolor\":\"white\",\"linecolor\":\"white\",\"showbackground\":true,\"ticks\":\"\",\"zerolinecolor\":\"white\",\"gridwidth\":2},\"zaxis\":{\"backgroundcolor\":\"#E5ECF6\",\"gridcolor\":\"white\",\"linecolor\":\"white\",\"showbackground\":true,\"ticks\":\"\",\"zerolinecolor\":\"white\",\"gridwidth\":2}},\"shapedefaults\":{\"line\":{\"color\":\"#2a3f5f\"}},\"annotationdefaults\":{\"arrowcolor\":\"#2a3f5f\",\"arrowhead\":0,\"arrowwidth\":1},\"geo\":{\"bgcolor\":\"white\",\"landcolor\":\"#E5ECF6\",\"subunitcolor\":\"white\",\"showland\":true,\"showlakes\":true,\"lakecolor\":\"white\"},\"title\":{\"x\":0.05},\"mapbox\":{\"style\":\"light\"}}}},                        {\"responsive\": true}                    ).then(function(){\n",
              "                            \n",
              "var gd = document.getElementById('ba6ab197-b7ed-4f7a-a8a2-deb517c4c0dc');\n",
              "var x = new MutationObserver(function (mutations, observer) {{\n",
              "        var display = window.getComputedStyle(gd).display;\n",
              "        if (!display || display === 'none') {{\n",
              "            console.log([gd, 'removed!']);\n",
              "            Plotly.purge(gd);\n",
              "            observer.disconnect();\n",
              "        }}\n",
              "}});\n",
              "\n",
              "// Listen for the removal of the full notebook cells\n",
              "var notebookContainer = gd.closest('#notebook-container');\n",
              "if (notebookContainer) {{\n",
              "    x.observe(notebookContainer, {childList: true});\n",
              "}}\n",
              "\n",
              "// Listen for the clearing of the current output cell\n",
              "var outputEl = gd.closest('.output');\n",
              "if (outputEl) {{\n",
              "    x.observe(outputEl, {childList: true});\n",
              "}}\n",
              "\n",
              "                        })                };                            </script>        </div>\n",
              "</body>\n",
              "</html>"
            ]
          },
          "metadata": {}
        },
        {
          "output_type": "display_data",
          "data": {
            "text/html": [
              "<html>\n",
              "<head><meta charset=\"utf-8\" /></head>\n",
              "<body>\n",
              "    <div>            <script src=\"https://cdnjs.cloudflare.com/ajax/libs/mathjax/2.7.5/MathJax.js?config=TeX-AMS-MML_SVG\"></script><script type=\"text/javascript\">if (window.MathJax && window.MathJax.Hub && window.MathJax.Hub.Config) {window.MathJax.Hub.Config({SVG: {font: \"STIX-Web\"}});}</script>                <script type=\"text/javascript\">window.PlotlyConfig = {MathJaxConfig: 'local'};</script>\n",
              "        <script src=\"https://cdn.plot.ly/plotly-2.18.2.min.js\"></script>                <div id=\"9926fcbf-a279-4c3f-ba8a-334a0e11ce95\" class=\"plotly-graph-div\" style=\"height:525px; width:100%;\"></div>            <script type=\"text/javascript\">                                    window.PLOTLYENV=window.PLOTLYENV || {};                                    if (document.getElementById(\"9926fcbf-a279-4c3f-ba8a-334a0e11ce95\")) {                    Plotly.newPlot(                        \"9926fcbf-a279-4c3f-ba8a-334a0e11ce95\",                        [{\"cliponaxis\":false,\"hovertemplate\":[\"net_arch (CategoricalDistribution): 0.003893996448409879<extra></extra>\",\"learning rate (FloatDistribution): 0.00837970775352981<extra></extra>\",\"gamma (FloatDistribution): 0.030936659091340885<extra></extra>\",\"activation_fn (CategoricalDistribution): 0.032426706810222805<extra></extra>\",\"exponent_n_steps (IntDistribution): 0.0934226069868417<extra></extra>\",\"max_grad_norm (FloatDistribution): 0.8309403229096549<extra></extra>\"],\"marker\":{\"color\":\"rgb(66,146,198)\"},\"orientation\":\"h\",\"text\":[\"<0.01\",\"<0.01\",\"0.03\",\"0.03\",\"0.09\",\"0.83\"],\"textposition\":\"outside\",\"x\":[0.003893996448409879,0.00837970775352981,0.030936659091340885,0.032426706810222805,0.0934226069868417,0.8309403229096549],\"y\":[\"net_arch\",\"learning rate\",\"gamma\",\"activation_fn\",\"exponent_n_steps\",\"max_grad_norm\"],\"type\":\"bar\"}],                        {\"showlegend\":false,\"title\":{\"text\":\"Hyperparameter Importances\"},\"xaxis\":{\"title\":{\"text\":\"Importance for Objective Value\"}},\"yaxis\":{\"title\":{\"text\":\"Hyperparameter\"}},\"template\":{\"data\":{\"histogram2dcontour\":[{\"type\":\"histogram2dcontour\",\"colorbar\":{\"outlinewidth\":0,\"ticks\":\"\"},\"colorscale\":[[0.0,\"#0d0887\"],[0.1111111111111111,\"#46039f\"],[0.2222222222222222,\"#7201a8\"],[0.3333333333333333,\"#9c179e\"],[0.4444444444444444,\"#bd3786\"],[0.5555555555555556,\"#d8576b\"],[0.6666666666666666,\"#ed7953\"],[0.7777777777777778,\"#fb9f3a\"],[0.8888888888888888,\"#fdca26\"],[1.0,\"#f0f921\"]]}],\"choropleth\":[{\"type\":\"choropleth\",\"colorbar\":{\"outlinewidth\":0,\"ticks\":\"\"}}],\"histogram2d\":[{\"type\":\"histogram2d\",\"colorbar\":{\"outlinewidth\":0,\"ticks\":\"\"},\"colorscale\":[[0.0,\"#0d0887\"],[0.1111111111111111,\"#46039f\"],[0.2222222222222222,\"#7201a8\"],[0.3333333333333333,\"#9c179e\"],[0.4444444444444444,\"#bd3786\"],[0.5555555555555556,\"#d8576b\"],[0.6666666666666666,\"#ed7953\"],[0.7777777777777778,\"#fb9f3a\"],[0.8888888888888888,\"#fdca26\"],[1.0,\"#f0f921\"]]}],\"heatmap\":[{\"type\":\"heatmap\",\"colorbar\":{\"outlinewidth\":0,\"ticks\":\"\"},\"colorscale\":[[0.0,\"#0d0887\"],[0.1111111111111111,\"#46039f\"],[0.2222222222222222,\"#7201a8\"],[0.3333333333333333,\"#9c179e\"],[0.4444444444444444,\"#bd3786\"],[0.5555555555555556,\"#d8576b\"],[0.6666666666666666,\"#ed7953\"],[0.7777777777777778,\"#fb9f3a\"],[0.8888888888888888,\"#fdca26\"],[1.0,\"#f0f921\"]]}],\"heatmapgl\":[{\"type\":\"heatmapgl\",\"colorbar\":{\"outlinewidth\":0,\"ticks\":\"\"},\"colorscale\":[[0.0,\"#0d0887\"],[0.1111111111111111,\"#46039f\"],[0.2222222222222222,\"#7201a8\"],[0.3333333333333333,\"#9c179e\"],[0.4444444444444444,\"#bd3786\"],[0.5555555555555556,\"#d8576b\"],[0.6666666666666666,\"#ed7953\"],[0.7777777777777778,\"#fb9f3a\"],[0.8888888888888888,\"#fdca26\"],[1.0,\"#f0f921\"]]}],\"contourcarpet\":[{\"type\":\"contourcarpet\",\"colorbar\":{\"outlinewidth\":0,\"ticks\":\"\"}}],\"contour\":[{\"type\":\"contour\",\"colorbar\":{\"outlinewidth\":0,\"ticks\":\"\"},\"colorscale\":[[0.0,\"#0d0887\"],[0.1111111111111111,\"#46039f\"],[0.2222222222222222,\"#7201a8\"],[0.3333333333333333,\"#9c179e\"],[0.4444444444444444,\"#bd3786\"],[0.5555555555555556,\"#d8576b\"],[0.6666666666666666,\"#ed7953\"],[0.7777777777777778,\"#fb9f3a\"],[0.8888888888888888,\"#fdca26\"],[1.0,\"#f0f921\"]]}],\"surface\":[{\"type\":\"surface\",\"colorbar\":{\"outlinewidth\":0,\"ticks\":\"\"},\"colorscale\":[[0.0,\"#0d0887\"],[0.1111111111111111,\"#46039f\"],[0.2222222222222222,\"#7201a8\"],[0.3333333333333333,\"#9c179e\"],[0.4444444444444444,\"#bd3786\"],[0.5555555555555556,\"#d8576b\"],[0.6666666666666666,\"#ed7953\"],[0.7777777777777778,\"#fb9f3a\"],[0.8888888888888888,\"#fdca26\"],[1.0,\"#f0f921\"]]}],\"mesh3d\":[{\"type\":\"mesh3d\",\"colorbar\":{\"outlinewidth\":0,\"ticks\":\"\"}}],\"scatter\":[{\"fillpattern\":{\"fillmode\":\"overlay\",\"size\":10,\"solidity\":0.2},\"type\":\"scatter\"}],\"parcoords\":[{\"type\":\"parcoords\",\"line\":{\"colorbar\":{\"outlinewidth\":0,\"ticks\":\"\"}}}],\"scatterpolargl\":[{\"type\":\"scatterpolargl\",\"marker\":{\"colorbar\":{\"outlinewidth\":0,\"ticks\":\"\"}}}],\"bar\":[{\"error_x\":{\"color\":\"#2a3f5f\"},\"error_y\":{\"color\":\"#2a3f5f\"},\"marker\":{\"line\":{\"color\":\"#E5ECF6\",\"width\":0.5},\"pattern\":{\"fillmode\":\"overlay\",\"size\":10,\"solidity\":0.2}},\"type\":\"bar\"}],\"scattergeo\":[{\"type\":\"scattergeo\",\"marker\":{\"colorbar\":{\"outlinewidth\":0,\"ticks\":\"\"}}}],\"scatterpolar\":[{\"type\":\"scatterpolar\",\"marker\":{\"colorbar\":{\"outlinewidth\":0,\"ticks\":\"\"}}}],\"histogram\":[{\"marker\":{\"pattern\":{\"fillmode\":\"overlay\",\"size\":10,\"solidity\":0.2}},\"type\":\"histogram\"}],\"scattergl\":[{\"type\":\"scattergl\",\"marker\":{\"colorbar\":{\"outlinewidth\":0,\"ticks\":\"\"}}}],\"scatter3d\":[{\"type\":\"scatter3d\",\"line\":{\"colorbar\":{\"outlinewidth\":0,\"ticks\":\"\"}},\"marker\":{\"colorbar\":{\"outlinewidth\":0,\"ticks\":\"\"}}}],\"scattermapbox\":[{\"type\":\"scattermapbox\",\"marker\":{\"colorbar\":{\"outlinewidth\":0,\"ticks\":\"\"}}}],\"scatterternary\":[{\"type\":\"scatterternary\",\"marker\":{\"colorbar\":{\"outlinewidth\":0,\"ticks\":\"\"}}}],\"scattercarpet\":[{\"type\":\"scattercarpet\",\"marker\":{\"colorbar\":{\"outlinewidth\":0,\"ticks\":\"\"}}}],\"carpet\":[{\"aaxis\":{\"endlinecolor\":\"#2a3f5f\",\"gridcolor\":\"white\",\"linecolor\":\"white\",\"minorgridcolor\":\"white\",\"startlinecolor\":\"#2a3f5f\"},\"baxis\":{\"endlinecolor\":\"#2a3f5f\",\"gridcolor\":\"white\",\"linecolor\":\"white\",\"minorgridcolor\":\"white\",\"startlinecolor\":\"#2a3f5f\"},\"type\":\"carpet\"}],\"table\":[{\"cells\":{\"fill\":{\"color\":\"#EBF0F8\"},\"line\":{\"color\":\"white\"}},\"header\":{\"fill\":{\"color\":\"#C8D4E3\"},\"line\":{\"color\":\"white\"}},\"type\":\"table\"}],\"barpolar\":[{\"marker\":{\"line\":{\"color\":\"#E5ECF6\",\"width\":0.5},\"pattern\":{\"fillmode\":\"overlay\",\"size\":10,\"solidity\":0.2}},\"type\":\"barpolar\"}],\"pie\":[{\"automargin\":true,\"type\":\"pie\"}]},\"layout\":{\"autotypenumbers\":\"strict\",\"colorway\":[\"#636efa\",\"#EF553B\",\"#00cc96\",\"#ab63fa\",\"#FFA15A\",\"#19d3f3\",\"#FF6692\",\"#B6E880\",\"#FF97FF\",\"#FECB52\"],\"font\":{\"color\":\"#2a3f5f\"},\"hovermode\":\"closest\",\"hoverlabel\":{\"align\":\"left\"},\"paper_bgcolor\":\"white\",\"plot_bgcolor\":\"#E5ECF6\",\"polar\":{\"bgcolor\":\"#E5ECF6\",\"angularaxis\":{\"gridcolor\":\"white\",\"linecolor\":\"white\",\"ticks\":\"\"},\"radialaxis\":{\"gridcolor\":\"white\",\"linecolor\":\"white\",\"ticks\":\"\"}},\"ternary\":{\"bgcolor\":\"#E5ECF6\",\"aaxis\":{\"gridcolor\":\"white\",\"linecolor\":\"white\",\"ticks\":\"\"},\"baxis\":{\"gridcolor\":\"white\",\"linecolor\":\"white\",\"ticks\":\"\"},\"caxis\":{\"gridcolor\":\"white\",\"linecolor\":\"white\",\"ticks\":\"\"}},\"coloraxis\":{\"colorbar\":{\"outlinewidth\":0,\"ticks\":\"\"}},\"colorscale\":{\"sequential\":[[0.0,\"#0d0887\"],[0.1111111111111111,\"#46039f\"],[0.2222222222222222,\"#7201a8\"],[0.3333333333333333,\"#9c179e\"],[0.4444444444444444,\"#bd3786\"],[0.5555555555555556,\"#d8576b\"],[0.6666666666666666,\"#ed7953\"],[0.7777777777777778,\"#fb9f3a\"],[0.8888888888888888,\"#fdca26\"],[1.0,\"#f0f921\"]],\"sequentialminus\":[[0.0,\"#0d0887\"],[0.1111111111111111,\"#46039f\"],[0.2222222222222222,\"#7201a8\"],[0.3333333333333333,\"#9c179e\"],[0.4444444444444444,\"#bd3786\"],[0.5555555555555556,\"#d8576b\"],[0.6666666666666666,\"#ed7953\"],[0.7777777777777778,\"#fb9f3a\"],[0.8888888888888888,\"#fdca26\"],[1.0,\"#f0f921\"]],\"diverging\":[[0,\"#8e0152\"],[0.1,\"#c51b7d\"],[0.2,\"#de77ae\"],[0.3,\"#f1b6da\"],[0.4,\"#fde0ef\"],[0.5,\"#f7f7f7\"],[0.6,\"#e6f5d0\"],[0.7,\"#b8e186\"],[0.8,\"#7fbc41\"],[0.9,\"#4d9221\"],[1,\"#276419\"]]},\"xaxis\":{\"gridcolor\":\"white\",\"linecolor\":\"white\",\"ticks\":\"\",\"title\":{\"standoff\":15},\"zerolinecolor\":\"white\",\"automargin\":true,\"zerolinewidth\":2},\"yaxis\":{\"gridcolor\":\"white\",\"linecolor\":\"white\",\"ticks\":\"\",\"title\":{\"standoff\":15},\"zerolinecolor\":\"white\",\"automargin\":true,\"zerolinewidth\":2},\"scene\":{\"xaxis\":{\"backgroundcolor\":\"#E5ECF6\",\"gridcolor\":\"white\",\"linecolor\":\"white\",\"showbackground\":true,\"ticks\":\"\",\"zerolinecolor\":\"white\",\"gridwidth\":2},\"yaxis\":{\"backgroundcolor\":\"#E5ECF6\",\"gridcolor\":\"white\",\"linecolor\":\"white\",\"showbackground\":true,\"ticks\":\"\",\"zerolinecolor\":\"white\",\"gridwidth\":2},\"zaxis\":{\"backgroundcolor\":\"#E5ECF6\",\"gridcolor\":\"white\",\"linecolor\":\"white\",\"showbackground\":true,\"ticks\":\"\",\"zerolinecolor\":\"white\",\"gridwidth\":2}},\"shapedefaults\":{\"line\":{\"color\":\"#2a3f5f\"}},\"annotationdefaults\":{\"arrowcolor\":\"#2a3f5f\",\"arrowhead\":0,\"arrowwidth\":1},\"geo\":{\"bgcolor\":\"white\",\"landcolor\":\"#E5ECF6\",\"subunitcolor\":\"white\",\"showland\":true,\"showlakes\":true,\"lakecolor\":\"white\"},\"title\":{\"x\":0.05},\"mapbox\":{\"style\":\"light\"}}}},                        {\"responsive\": true}                    ).then(function(){\n",
              "                            \n",
              "var gd = document.getElementById('9926fcbf-a279-4c3f-ba8a-334a0e11ce95');\n",
              "var x = new MutationObserver(function (mutations, observer) {{\n",
              "        var display = window.getComputedStyle(gd).display;\n",
              "        if (!display || display === 'none') {{\n",
              "            console.log([gd, 'removed!']);\n",
              "            Plotly.purge(gd);\n",
              "            observer.disconnect();\n",
              "        }}\n",
              "}});\n",
              "\n",
              "// Listen for the removal of the full notebook cells\n",
              "var notebookContainer = gd.closest('#notebook-container');\n",
              "if (notebookContainer) {{\n",
              "    x.observe(notebookContainer, {childList: true});\n",
              "}}\n",
              "\n",
              "// Listen for the clearing of the current output cell\n",
              "var outputEl = gd.closest('.output');\n",
              "if (outputEl) {{\n",
              "    x.observe(outputEl, {childList: true});\n",
              "}}\n",
              "\n",
              "                        })                };                            </script>        </div>\n",
              "</body>\n",
              "</html>"
            ]
          },
          "metadata": {}
        }
      ],
      "source": [
        "import torch as th\n",
        "\n",
        "# Set pytorch num threads to 1 for faster training\n",
        "th.set_num_threads(1)\n",
        "# Select the sampler, can be random, TPESampler, CMAES, ...\n",
        "sampler = TPESampler(n_startup_trials=N_STARTUP_TRIALS)\n",
        "# Do not prune before 1/3 of the max budget is used\n",
        "pruner = MedianPruner(\n",
        "    n_startup_trials=N_STARTUP_TRIALS, n_warmup_steps=N_EVALUATIONS // 3\n",
        ")\n",
        "# Create the study and start the hyperparameter optimization\n",
        "study = optuna.create_study(sampler=sampler, pruner=pruner, direction=\"maximize\")\n",
        "\n",
        "try:\n",
        "    study.optimize(objective, n_trials=N_TRIALS, n_jobs=N_JOBS, timeout=TIMEOUT)\n",
        "except KeyboardInterrupt:\n",
        "    pass\n",
        "\n",
        "print(\"Number of finished trials: \", len(study.trials))\n",
        "\n",
        "print(\"Best trial:\")\n",
        "trial = study.best_trial\n",
        "\n",
        "print(f\"  Value: {trial.value}\")\n",
        "\n",
        "print(\"  Params: \")\n",
        "for key, value in trial.params.items():\n",
        "    print(f\"    {key}: {value}\")\n",
        "\n",
        "print(\"  User attrs:\")\n",
        "for key, value in trial.user_attrs.items():\n",
        "    print(f\"    {key}: {value}\")\n",
        "\n",
        "# Write report\n",
        "study.trials_dataframe().to_csv(\"study_results_a2c_cartpole.csv\")\n",
        "\n",
        "fig1 = plot_optimization_history(study)\n",
        "fig2 = plot_param_importances(study)\n",
        "\n",
        "fig1.show()\n",
        "fig2.show()"
      ]
    },
    {
      "cell_type": "markdown",
      "source": [
        "![image.png](data:image/png;base64,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)"
      ],
      "metadata": {
        "id": "f2iYuXa7tY49"
      }
    },
    {
      "cell_type": "markdown",
      "source": [
        "![image.png](data:image/png;base64,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)"
      ],
      "metadata": {
        "id": "dVkmGuWgtglT"
      }
    },
    {
      "cell_type": "markdown",
      "metadata": {
        "id": "SCbep6z1h3D1"
      },
      "source": [
        "Complete example: https://github.com/DLR-RM/rl-baselines3-zoo"
      ]
    },
    {
      "cell_type": "markdown",
      "metadata": {
        "id": "7yUeYnfJVpB2"
      },
      "source": [
        "# Conclusion\n",
        "\n",
        "What we have seen in this notebook:\n",
        "- the importance of good hyperparameters\n",
        "- how to do automatic hyperparameter search with optuna\n"
      ]
    },
    {
      "cell_type": "code",
      "execution_count": null,
      "metadata": {
        "id": "3-gqIPXqV7zZ",
        "vscode": {
          "languageId": "python"
        }
      },
      "outputs": [],
      "source": []
    }
  ],
  "metadata": {
    "colab": {
      "provenance": [],
      "include_colab_link": true
    },
    "kernelspec": {
      "display_name": "Python 3",
      "name": "python3"
    }
  },
  "nbformat": 4,
  "nbformat_minor": 0
}